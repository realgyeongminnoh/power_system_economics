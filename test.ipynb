{
 "cells": [
  {
   "cell_type": "code",
   "execution_count": 1,
   "id": "4a62b113",
   "metadata": {},
   "outputs": [
    {
     "name": "stdout",
     "output_type": "stream",
     "text": [
      "Set parameter Username\n",
      "Set parameter LicenseID to value 2659802\n",
      "Academic license - for non-commercial use only - expires 2026-05-01\n"
     ]
    }
   ],
   "source": [
    "import pickle\n",
    "from pathlib import Path\n",
    "import numpy as np\n",
    "import gurobipy as gp; gp.Model()\n",
    "import matplotlib.pyplot as plt\n",
    "from matplotlib.patches import Rectangle\n",
    "\n",
    "from src.input import Input_uc\n",
    "from src.output import Output_uc\n",
    "from src.unit_commitment import solve_uc_formulation_0, solve_uc_formulation_1"
   ]
  },
  {
   "cell_type": "code",
   "execution_count": 2,
   "id": "c4ff8d97",
   "metadata": {},
   "outputs": [],
   "source": [
    "num_units = 122\n",
    "num_periods = 24\n",
    "time_start, time_end = np.datetime64(\"2022-07-02T00\"), np.datetime64(\"2022-07-02T23\")"
   ]
  },
  {
   "cell_type": "code",
   "execution_count": 3,
   "id": "73bbd10c",
   "metadata": {},
   "outputs": [],
   "source": [
    "path_folder_processed = Path.cwd() / \"data\" / \"input\" / \"processed\"\n",
    "timestamp_2022 = np.load(path_folder_processed / \"timestamp_2022.npy\")\n",
    "idx_time_start, idx_time_end = np.where(timestamp_2022 == time_start)[0][0], np.where(timestamp_2022 == time_end)[0][0]\n",
    "idx_time_prev = idx_time_start - 1\n",
    "if idx_time_prev < 0:\n",
    "    raise NotImplementedError(\"not 2022-01-01T00 for the time start\")"
   ]
  },
  {
   "cell_type": "code",
   "execution_count": 4,
   "id": "af8198a5",
   "metadata": {},
   "outputs": [],
   "source": [
    "unit_type = np.load(path_folder_processed / \"unit_type.npy\")\n",
    "idx_nuclear = np.load(path_folder_processed / \"idx_nuclear.npy\")\n",
    "idx_coal = np.load(path_folder_processed / \"idx_coal.npy\")\n",
    "idx_lng = np.load(path_folder_processed / \"idx_lng.npy\")\n",
    "p_min = np.load(path_folder_processed / \"p_min.npy\")\n",
    "p_max = np.load(path_folder_processed / \"p_max.npy\")\n",
    "ramp_up = np.load(path_folder_processed / \"ramp_up.npy\")\n",
    "ramp_down = np.load(path_folder_processed / \"ramp_down.npy\")\n",
    "startup_ramp = np.load(path_folder_processed / \"startup_ramp.npy\")\n",
    "shutdown_ramp = np.load(path_folder_processed / \"shutdown_ramp.npy\")\n",
    "min_up = np.load(path_folder_processed / \"min_up.npy\")\n",
    "min_down = np.load(path_folder_processed / \"min_down.npy\")\n",
    "cost_lin = np.load(path_folder_processed / \"cost_lin.npy\")\n",
    "cost_const = np.load(path_folder_processed / \"cost_const.npy\")"
   ]
  },
  {
   "cell_type": "code",
   "execution_count": 5,
   "id": "17155591",
   "metadata": {},
   "outputs": [],
   "source": [
    "cost_startup_step_formulation_0 = pickle.load(open(path_folder_processed / \"cost_startup_step_formulation_0.pkl\", \"rb\"))\n",
    "num_cooling_steps_formulation_0 = np.load(path_folder_processed / \"num_cooling_steps_formulation_0.npy\")\n",
    "cost_startup_step_formulation_1 = np.load(path_folder_processed / \"cost_startup_step_formulation_1.npy\")\n",
    "step_length_formulation_1 = np.load(path_folder_processed / \"step_length_formulation_1.npy\")"
   ]
  },
  {
   "cell_type": "code",
   "execution_count": 6,
   "id": "4409b259",
   "metadata": {},
   "outputs": [],
   "source": [
    "demand_2022 = np.load(path_folder_processed / \"demand_2022.npy\")\n",
    "demand = demand_2022[idx_time_start:idx_time_end+1]"
   ]
  },
  {
   "cell_type": "code",
   "execution_count": 7,
   "id": "2d1f95fe",
   "metadata": {},
   "outputs": [],
   "source": [
    "# mustoff_2022 = np.load(path_folder_processed / \"mustoff_2022.npy\")"
   ]
  },
  {
   "cell_type": "code",
   "execution_count": 8,
   "id": "f26d57c9",
   "metadata": {},
   "outputs": [],
   "source": [
    "renewable_2022 = np.load(path_folder_processed / \"renewable_2022.npy\")\n",
    "renewable = renewable_2022[idx_time_start:idx_time_end+1]"
   ]
  },
  {
   "cell_type": "code",
   "execution_count": 9,
   "id": "038fa36f",
   "metadata": {},
   "outputs": [],
   "source": [
    "status_2022 = np.load(path_folder_processed / \"status_2022.npy\")\n",
    "u_prev = status_2022[:, idx_time_start-num_cooling_steps_formulation_0.max():idx_time_start]"
   ]
  },
  {
   "cell_type": "code",
   "execution_count": 10,
   "id": "bf4758a6",
   "metadata": {},
   "outputs": [],
   "source": [
    "# for TA marking: you can check like this easily for init condition correctness\n",
    "# for idx_unit, (u_prev_i, min_up_i) in enumerate(zip(u_prev, min_up)):\n",
    "#     summm = sum(u_prev_i[-min_up_i:])\n",
    "#     if summm not in (0, min_up_i):\n",
    "#         print(idx_unit, u_prev_i[-min_up_i:])\n",
    "\n",
    "# for idx_unit, (u_prev_i, min_down_i) in enumerate(zip(u_prev, min_down)):\n",
    "#     summm = sum(u_prev_i[-min_down_i:])\n",
    "#     if summm not in (0, min_down_i):\n",
    "#         print(idx_unit, u_prev_i[-min_down_i:])\n",
    "\n",
    "def _tail_count(seq, value):\n",
    "    cnt = 0\n",
    "    for x in reversed(seq):\n",
    "        if x == value:\n",
    "            cnt += 1\n",
    "        else:\n",
    "            break\n",
    "    return cnt\n",
    "\n",
    "min_up_r, min_down_r = [], []\n",
    "for hist, mu, md in zip(u_prev, min_up, min_down):\n",
    "    on_tail  = _tail_count(hist, 1)\n",
    "    off_tail = _tail_count(hist, 0)\n",
    "\n",
    "    if on_tail:\n",
    "        min_up_r.append(max(0, mu - on_tail))\n",
    "        min_down_r.append(0)\n",
    "    else:\n",
    "        min_up_r.append(0)\n",
    "        min_down_r.append(max(0, md - off_tail))\n",
    "\n",
    "min_up_r, min_down_r = np.array(min_up_r).astype(np.int64), np.array(min_down_r).astype(np.int64)"
   ]
  },
  {
   "cell_type": "code",
   "execution_count": 11,
   "id": "552d65d1",
   "metadata": {},
   "outputs": [],
   "source": [
    "def _tail_count(seq, value):\n",
    "    cnt = 0\n",
    "    for x in reversed(seq):\n",
    "        if x == value:\n",
    "            cnt += 1\n",
    "        else:\n",
    "            break\n",
    "    return cnt\n",
    "\n",
    "min_up_0 = np.array(\n",
    "    [_tail_count(u_prev[g], 1) for g in range(num_units)], dtype=np.int64\n",
    ")\n",
    "min_down_0 = np.array(\n",
    "    [_tail_count(u_prev[g], 0) for g in range(num_units)], dtype=np.int64\n",
    ")"
   ]
  },
  {
   "cell_type": "markdown",
   "id": "60b154cb",
   "metadata": {},
   "source": [
    "---\n",
    "---\n",
    "---"
   ]
  },
  {
   "cell_type": "code",
   "execution_count": 12,
   "id": "893c4f81",
   "metadata": {},
   "outputs": [],
   "source": [
    "idx_u_prev_up = u_prev[:, -1].astype(bool)\n",
    "p_prev = np.zeros(num_units)\n",
    "p_prev[idx_u_prev_up] = p_min[idx_u_prev_up]"
   ]
  },
  {
   "cell_type": "code",
   "execution_count": null,
   "id": "5e688836",
   "metadata": {},
   "outputs": [],
   "source": [
    "input_uc = Input_uc(\n",
    "    unit_type=unit_type,\n",
    "    idx_nuclear=idx_nuclear,\n",
    "    idx_coal=idx_coal,\n",
    "    idx_lng=idx_lng,\n",
    "    num_units=num_units,\n",
    "    num_periods=num_periods,\n",
    "    #########################\n",
    "    demand=demand,\n",
    "    reserve=(demand - renewable) * 0.1,\n",
    "    renewable=renewable,\n",
    "    #########################\n",
    "    p_min=p_min,\n",
    "    p_max=p_max,\n",
    "    ramp_up=ramp_up,\n",
    "    ramp_down=ramp_down,\n",
    "    startup_ramp=startup_ramp,\n",
    "    shutdown_ramp=shutdown_ramp,\n",
    "    min_up=min_up,\n",
    "    min_down=min_down,\n",
    "    #########################\n",
    "    cost_lin=cost_lin,\n",
    "    cost_const=cost_const,\n",
    "    #########################\n",
    "    cost_startup_step_formulation_0=cost_startup_step_formulation_0,\n",
    "    num_cooling_steps_formulation_0=num_cooling_steps_formulation_0,\n",
    "    cost_startup_step_formulation_1=cost_startup_step_formulation_1,\n",
    "    step_length_formulation_1=step_length_formulation_1,\n",
    "    #########################\n",
    "    p_prev=p_prev,\n",
    "    u_prev=u_prev,\n",
    "    min_up_r=min_up_r,\n",
    "    min_down_r=min_down_r,\n",
    "    min_up_0=min_up_0,\n",
    "    min_down_0=min_down_0,\n",
    ")"
   ]
  },
  {
   "cell_type": "markdown",
   "id": "17b9b556",
   "metadata": {},
   "source": [
    "---\n",
    "---\n",
    "---"
   ]
  },
  {
   "cell_type": "code",
   "execution_count": 14,
   "id": "9b2b5469",
   "metadata": {},
   "outputs": [],
   "source": [
    "# output_uc = Output_uc()\n",
    "# solve_uc_formulation_0(input_uc=input_uc, output_uc=output_uc, verbose=True)"
   ]
  },
  {
   "cell_type": "code",
   "execution_count": null,
   "id": "be145015",
   "metadata": {},
   "outputs": [
    {
     "name": "stdout",
     "output_type": "stream",
     "text": [
      "Set parameter OutputFlag to value 1\n"
     ]
    },
    {
     "name": "stdout",
     "output_type": "stream",
     "text": [
      "Gurobi Optimizer version 12.0.1 build v12.0.1rc0 (linux64 - \"Arch Linux\")\n",
      "\n",
      "CPU model: 12th Gen Intel(R) Core(TM) i7-12700, instruction set [SSE2|AVX|AVX2]\n",
      "Thread count: 20 physical cores, 20 logical processors, using up to 20 threads\n",
      "\n",
      "Start tuning.\n",
      "Tune 33 parameters.\n",
      "\n",
      "Solving model using baseline parameter set with TimeLimit=3600s\n",
      "\n",
      "-------------------------------------------------------------------------------\n",
      "\n",
      "Testing candidate parameter set 1...\n",
      "\n",
      "\tDefault parameters\n",
      "\n",
      "Solving model_000 with random seed #1 ... MIP gap 0.01%\n",
      "Solving model_000 with random seed #2 ... MIP gap 0.01%\n",
      "Solving model_000 with random seed #3 ... MIP gap 0.01%\n",
      "\n",
      "Summary candidate parameter set 1 \n",
      " # Name              0        1        2      Avg  Std Dev      Max\n",
      " 0              34.85s   11.57s   10.82s   19.08s    11.16   34.85s\n",
      "\n",
      "Setting total tuning time limit to 572s\n",
      "(set the TuneTimeLimit parameter to choose a different value)\n",
      "\n",
      "-------------------------------------------------------------------------------\n",
      "Begin tuning (baseline mean runtime 19.08s)...\n",
      "-------------------------------------------------------------------------------\n",
      "\n",
      "Testing candidate parameter set 2...\n",
      "\n",
      "\tHeuristics 0\n",
      "\n",
      "Solving model_000 with random seed #1 ... runtime 48.02s (limit)\n",
      "\n",
      "Summary candidate parameter set 2 (discarded)\n",
      " # Name              0        1        2      Avg  Std Dev      Max\n",
      " 0             48.02s*        -        -        -        -        -\n",
      "\n",
      "Progress so far:\n",
      "  baseline: mean runtime 19.08s (parameter set 1, 0 non-defaults)\n",
      "  best:     mean runtime 19.08s (parameter set 1, 0 non-defaults)\n",
      "Total elapsed tuning time 105s (467s remaining, 1 running jobs)\n",
      "\n",
      "-------------------------------------------------------------------------------\n",
      "\n",
      "Testing candidate parameter set 3...\n",
      "\n",
      "\tMIPFocus 3\n",
      "\n",
      "\n",
      "Interrupt request received\n",
      "\n",
      "\n",
      "Tuning Interrupted\n",
      "\n",
      "-------------------------------------------------------------------------------\n",
      "\n",
      "Tested 2 parameter sets in 130.22s\n",
      "Total optimization run time for up to 1 concurrent runs: 105.26s\n",
      "\n",
      "Baseline parameter set: mean runtime 19.08s\n",
      "\n",
      "\tDefault parameters\n",
      "\n",
      " # Name              0        1        2      Avg  Std Dev      Max\n",
      " 0              34.85s   11.57s   10.82s   19.08s    11.16   34.85s\n",
      "\n",
      "Unable to improve on baseline parameter set.\n",
      "\n",
      "***********************************\n",
      "Gurobi Optimizer version 12.0.1 build v12.0.1rc0 (linux64 - \"Arch Linux\")\n",
      "\n",
      "CPU model: 12th Gen Intel(R) Core(TM) i7-12700, instruction set [SSE2|AVX|AVX2]\n",
      "Thread count: 20 physical cores, 20 logical processors, using up to 20 threads\n",
      "\n",
      "Optimize a model with 35988 rows, 23424 columns and 138264 nonzeros\n",
      "Model fingerprint: 0x30c1fbad\n",
      "Variable types: 5856 continuous, 17568 integer (17568 binary)\n",
      "Coefficient statistics:\n",
      "  Matrix range     [1e+00, 1e+03]\n",
      "  Objective range  [3e+03, 6e+07]\n",
      "  Bounds range     [1e+00, 7e+02]\n",
      "  RHS range        [1e+00, 7e+04]\n",
      "Presolve removed 25643 rows and 9282 columns\n",
      "Presolve time: 0.20s\n",
      "Presolved: 10345 rows, 14142 columns, 62380 nonzeros\n",
      "Variable types: 5836 continuous, 8306 integer (8306 binary)\n",
      "\n",
      "Root relaxation: objective 2.608894e+10, 5185 iterations, 0.11 seconds (0.21 work units)\n",
      "\n",
      "    Nodes    |    Current Node    |     Objective Bounds      |     Work\n",
      " Expl Unexpl |  Obj  Depth IntInf | Incumbent    BestBd   Gap | It/Node Time\n",
      "\n",
      "     0     0 2.6089e+10    0   52          - 2.6089e+10      -     -    0s\n",
      "     0     0 2.6092e+10    0   92          - 2.6092e+10      -     -    0s\n",
      "     0     0 2.6092e+10    0   99          - 2.6092e+10      -     -    0s\n",
      "     0     0 2.6092e+10    0   99          - 2.6092e+10      -     -    0s\n",
      "     0     0 2.6092e+10    0  117          - 2.6092e+10      -     -    0s\n",
      "     0     0 2.6092e+10    0  119          - 2.6092e+10      -     -    0s\n",
      "     0     0 2.6092e+10    0  106          - 2.6092e+10      -     -    0s\n",
      "     0     0 2.6092e+10    0  104          - 2.6092e+10      -     -    0s\n",
      "     0     0 2.6092e+10    0  104          - 2.6092e+10      -     -    0s\n",
      "H    0     0                    4.170637e+10 2.6092e+10  37.4%     -    0s\n",
      "     0     0 2.6092e+10    0  138 4.1706e+10 2.6092e+10  37.4%     -    0s\n",
      "     0     0 2.6092e+10    0  128 4.1706e+10 2.6092e+10  37.4%     -    1s\n",
      "H    0     0                    2.613033e+10 2.6092e+10  0.15%     -    1s\n",
      "H    0     0                    2.612908e+10 2.6092e+10  0.14%     -    1s\n",
      "H    0     0                    2.612259e+10 2.6092e+10  0.12%     -    1s\n",
      "H    0     0                    2.612116e+10 2.6092e+10  0.11%     -    1s\n",
      "     0     0 2.6092e+10    0   51 2.6121e+10 2.6092e+10  0.11%     -    1s\n",
      "     0     0 2.6092e+10    0   63 2.6121e+10 2.6092e+10  0.11%     -    1s\n",
      "     0     0 2.6092e+10    0   69 2.6121e+10 2.6092e+10  0.11%     -    1s\n",
      "     0     0 2.6092e+10    0   77 2.6121e+10 2.6092e+10  0.11%     -    1s\n",
      "     0     0 2.6093e+10    0   83 2.6121e+10 2.6093e+10  0.11%     -    1s\n",
      "     0     0 2.6093e+10    0   92 2.6121e+10 2.6093e+10  0.11%     -    1s\n",
      "H    0     0                    2.612011e+10 2.6093e+10  0.11%     -    1s\n",
      "     0     0 2.6093e+10    0  105 2.6120e+10 2.6093e+10  0.11%     -    1s\n",
      "     0     0 2.6093e+10    0  107 2.6120e+10 2.6093e+10  0.11%     -    1s\n",
      "     0     0 2.6093e+10    0  115 2.6120e+10 2.6093e+10  0.11%     -    1s\n",
      "H    0     0                    2.611949e+10 2.6093e+10  0.10%     -    1s\n",
      "     0     0 2.6093e+10    0  113 2.6119e+10 2.6093e+10  0.10%     -    1s\n",
      "     0     0 2.6093e+10    0   47 2.6119e+10 2.6093e+10  0.10%     -    2s\n",
      "     0     0 2.6093e+10    0   80 2.6119e+10 2.6093e+10  0.10%     -    2s\n",
      "     0     0 2.6093e+10    0  102 2.6119e+10 2.6093e+10  0.10%     -    2s\n",
      "     0     0 2.6093e+10    0  108 2.6119e+10 2.6093e+10  0.10%     -    2s\n",
      "     0     0 2.6093e+10    0  118 2.6119e+10 2.6093e+10  0.10%     -    2s\n",
      "     0     0 2.6093e+10    0  118 2.6119e+10 2.6093e+10  0.10%     -    2s\n",
      "H    0     0                    2.611928e+10 2.6093e+10  0.10%     -    2s\n",
      "     0     0 2.6093e+10    0  136 2.6119e+10 2.6093e+10  0.10%     -    2s\n",
      "     0     0 2.6093e+10    0  136 2.6119e+10 2.6093e+10  0.10%     -    2s\n",
      "     0     2 2.6093e+10    0  136 2.6119e+10 2.6093e+10  0.10%     -    2s\n",
      "H   33    52                    2.611843e+10 2.6093e+10  0.10%  44.6    2s\n",
      "H  480   495                    2.611395e+10 2.6093e+10  0.08%  35.0    3s\n",
      "H  803   855                    2.611352e+10 2.6093e+10  0.08%  28.4    3s\n",
      "H  919   893                    2.611318e+10 2.6093e+10  0.08%  27.3    3s\n",
      "H 2135  1644                    2.610846e+10 2.6093e+10  0.06%  21.4    4s\n",
      "H 2782  2187                    2.610845e+10 2.6093e+10  0.06%  20.5    4s\n",
      "H 2796  2070                    2.610711e+10 2.6093e+10  0.05%  20.4    4s\n",
      "H 2854  2069                    2.610708e+10 2.6094e+10  0.05%  20.2    4s\n",
      "H 2875  2013                    2.610634e+10 2.6094e+10  0.05%  20.2    4s\n",
      "H 3027  1980                    2.610633e+10 2.6094e+10  0.05%  19.6    4s\n",
      "H 3036  1865                    2.610625e+10 2.6094e+10  0.05%  19.6    4s\n",
      "  3041  1872 2.6094e+10   11   82 2.6106e+10 2.6094e+10  0.05%  20.1    5s\n",
      "H 3073  1816                    2.610616e+10 2.6094e+10  0.05%  20.2    5s\n",
      "H 3234  1802                    2.610616e+10 2.6094e+10  0.05%  20.5    5s\n",
      "H 3245  1714                    2.610575e+10 2.6094e+10  0.04%  20.6    5s\n",
      "H 3590  1847                    2.610481e+10 2.6094e+10  0.04%  20.6    5s\n",
      "H 3593  1770                    2.610455e+10 2.6094e+10  0.04%  20.6    5s\n",
      "H 3664  1673                    2.610318e+10 2.6094e+10  0.03%  20.6    5s\n",
      "H 3779  1566                    2.610257e+10 2.6094e+10  0.03%  20.3    5s\n",
      "H 5242  1674                    2.610197e+10 2.6094e+10  0.03%  18.6    5s\n",
      "H 5545  1569                    2.610197e+10 2.6095e+10  0.03%  18.6    6s\n",
      "H 5546  1446                    2.610167e+10 2.6095e+10  0.03%  18.6    6s\n",
      "H 5550  1386                    2.610167e+10 2.6095e+10  0.03%  18.6    6s\n",
      "H 5562  1328                    2.610167e+10 2.6095e+10  0.03%  18.6    6s\n",
      "H 6747  1911                    2.610146e+10 2.6096e+10  0.02%  18.3    6s\n",
      "H 7073  1877                    2.610134e+10 2.6096e+10  0.02%  17.9    6s\n",
      "H10091  3128                    2.610133e+10 2.6097e+10  0.02%  16.8    7s\n",
      "H12899  4412                    2.610112e+10 2.6097e+10  0.01%  15.3    7s\n",
      "H21409  9920                    2.610098e+10 2.6098e+10  0.01%  12.0    9s\n",
      " 23859 11050 2.6098e+10   53   83 2.6101e+10 2.6098e+10  0.01%  11.4   10s\n"
     ]
    }
   ],
   "source": [
    "output_uc = Output_uc()\n",
    "solve_uc_formulation_1(input_uc=input_uc, output_uc=output_uc, verbose=True)"
   ]
  },
  {
   "cell_type": "code",
   "execution_count": null,
   "id": "3d76cc3f",
   "metadata": {},
   "outputs": [],
   "source": [
    "with open(\"compare.pkl\", \"rb\") as f:\n",
    "    compare = pickle.load(f)\n",
    "# with open(\"compare.pkl\", \"wb\") as f:\n",
    "#     pickle.dump(output_uc, f)\n",
    "objval = compare.total_cost - compare.total_cost_reserve"
   ]
  },
  {
   "cell_type": "code",
   "execution_count": null,
   "id": "6eb32c78",
   "metadata": {},
   "outputs": [],
   "source": [
    "# with open(\"reserve_10.pkl\", \"rb\") as f:\n",
    "#     compare = pickle.load(f)\n",
    "# # with open(\"reserve_10.pkl\", \"wb\") as f:\n",
    "# #     pickle.dump(output_uc, f)\n",
    "# objval = compare.total_cost - compare.total_cost_reserve"
   ]
  },
  {
   "cell_type": "code",
   "execution_count": null,
   "id": "b9b31fa0",
   "metadata": {},
   "outputs": [],
   "source": [
    "# with open(\"reserve_20.pkl\", \"rb\") as f:\n",
    "#     compare = pickle.load(f)\n",
    "# # with open(\"reserve_20.pkl\", \"wb\") as f:\n",
    "# #     pickle.dump(output_uc, f)\n",
    "# objval = compare.total_cost - compare.total_cost_reserve"
   ]
  },
  {
   "cell_type": "code",
   "execution_count": null,
   "id": "72191a19",
   "metadata": {},
   "outputs": [
    {
     "data": {
      "text/plain": [
       "0.0"
      ]
     },
     "execution_count": 19,
     "metadata": {},
     "output_type": "execute_result"
    }
   ],
   "source": [
    "25884345357.884823 - (output_uc.total_cost - output_uc.total_cost_reserve)"
   ]
  },
  {
   "cell_type": "markdown",
   "id": "9932b252",
   "metadata": {},
   "source": [
    "29 s without proj"
   ]
  },
  {
   "cell_type": "code",
   "execution_count": null,
   "id": "286693d1",
   "metadata": {},
   "outputs": [
    {
     "ename": "NameError",
     "evalue": "name 'asdf' is not defined",
     "output_type": "error",
     "traceback": [
      "\u001b[0;31m---------------------------------------------------------------------------\u001b[0m",
      "\u001b[0;31mNameError\u001b[0m                                 Traceback (most recent call last)",
      "Cell \u001b[0;32mIn[20], line 1\u001b[0m\n\u001b[0;32m----> 1\u001b[0m \u001b[43masdf\u001b[49m\n",
      "\u001b[0;31mNameError\u001b[0m: name 'asdf' is not defined"
     ]
    }
   ],
   "source": [
    "asdf"
   ]
  },
  {
   "cell_type": "code",
   "execution_count": null,
   "id": "f1118ba0",
   "metadata": {},
   "outputs": [],
   "source": [
    "def plot_heatmap(input_uc: Input_uc, output_uc: Output_uc, fig_height: float = 20, pad_rectangle: float = None):\n",
    "    cmap = plt.cm.jet.copy()\n",
    "    cmap.set_bad(color=\"white\")\n",
    "    num_periods = output_uc.p.shape[1]\n",
    "\n",
    "    idx_marginal_unit_per_period = np.array([\n",
    "        int(np.where(input_uc.cost_lin == mpg)[0][0]) \n",
    "        if mpg > 0 else -2 # for test (demand = 0 to blackstart) result plot purpose\n",
    "        for mpg in output_uc.marginal_price_generation\n",
    "        ])\n",
    "\n",
    "    helper = [\n",
    "        (input_uc.idx_lng, len(input_uc.idx_nuclear) + len(input_uc.idx_coal)),\n",
    "        (input_uc.idx_coal, len(input_uc.idx_nuclear)),\n",
    "        (input_uc.idx_nuclear, 0),\n",
    "    ]\n",
    "\n",
    "    fig, axes = plt.subplots(3, 1, figsize=(fig_height, fig_height), gridspec_kw={\"height_ratios\": [56/122, 41/122, 25/122]}, sharex=True)\n",
    "\n",
    "    for ax, (idx_type, idx_start) in zip(axes, helper):\n",
    "        p_type = output_uc.p[idx_type]\n",
    "        num_units_type = len(p_type)\n",
    "        p_min_type = np.tile(input_uc.p_min[idx_type][:, None], reps=num_periods)\n",
    "        p_max_type = np.tile(input_uc.p_max[idx_type][:, None], reps=num_periods)\n",
    "        heatmap = (p_type - p_min_type) / (p_max_type - p_min_type) * 100\n",
    "        heatmap[p_type == 0] = np.nan\n",
    "\n",
    "        #\n",
    "        ax.imshow(\n",
    "            heatmap,\n",
    "            aspect=\"auto\",\n",
    "            origin=\"lower\",\n",
    "            extent=[0.5, 24 + 0.5, idx_start, idx_start + num_units_type],\n",
    "            cmap=cmap,\n",
    "            vmin=0,\n",
    "            vmax=100,\n",
    "        )\n",
    "        \n",
    "        #\n",
    "        pad_rectangle = 0.066 / 20 * fig_height if pad_rectangle is None else pad_rectangle\n",
    "        for t in range(num_periods):\n",
    "            u_abs = idx_marginal_unit_per_period[t]\n",
    "            if idx_start <= u_abs < idx_start + num_units_type:\n",
    "\n",
    "                rect_h = Rectangle(\n",
    "                    (t + 0.5 + pad_rectangle, u_abs), 1 - 2 * pad_rectangle, 1,\n",
    "                    fill=False,\n",
    "                    edgecolor=\"white\",\n",
    "                    facecolor=\"none\",\n",
    "                    hatch=\"///\",\n",
    "                    linewidth=0,\n",
    "                    zorder=3\n",
    "                )\n",
    "                rect_h.set_hatch_linewidth(fig_height / 10)\n",
    "                ax.add_patch(rect_h)\n",
    "\n",
    "                ax.add_patch(\n",
    "                    Rectangle(\n",
    "                        (t + 0.5 + pad_rectangle, u_abs), 1 - 2 * pad_rectangle, 1,\n",
    "                        fill=False,\n",
    "                        edgecolor=\"black\",\n",
    "                        facecolor=\"none\",\n",
    "                        # hatch=\"//\",\n",
    "                        linewidth=fig_height / 5,\n",
    "                        zorder=3\n",
    "                    )\n",
    "                )\n",
    "\n",
    "        #\n",
    "        ax.set_yticks([idx_start, idx_start + num_units_type - 1])\n",
    "        ax.set_yticklabels([idx_start + 1, idx_start + num_units_type])\n",
    "        ax.tick_params(axis=\"both\", width=fig_height / 10, length=fig_height / 2, pad=fig_height / 2, labelsize=fig_height * 2)\n",
    "        for side in [\"bottom\", \"left\", \"top\", \"right\"]:\n",
    "            ax.spines[side].set_linewidth(fig_height / 10)\n",
    "\n",
    "    if num_periods == 24:\n",
    "        axes[-1].set_xticks([1, 6, 12, 18, 24])\n",
    "        axes[-1].set_xticklabels([1, 6, 12, 18, 24])\n",
    "\n",
    "    # axes[-2].hlines(y=57, xmin=1, xmax=24, colors=\"black\", ls=\"--\") # for TA: you can test like this the 57th (0-based) idx unit will be shown\n",
    "\n",
    "    plt.tight_layout()\n",
    "    plt.show(fig)"
   ]
  },
  {
   "cell_type": "code",
   "execution_count": null,
   "id": "de107905",
   "metadata": {},
   "outputs": [
    {
     "data": {
      "image/png": "[encoded data removed]",
      "text/plain": [
       "<Figure size 2000x2000 with 3 Axes>"
      ]
     },
     "metadata": {},
     "output_type": "display_data"
    }
   ],
   "source": [
    "# plot_heatmap(input_uc=input_uc, output_uc=output_uc, fig_height=20, pad_rectangle=0.03)\n",
    "plot_heatmap(input_uc=input_uc, output_uc=output_uc, fig_height=20, pad_rectangle=0.02)"
   ]
  },
  {
   "cell_type": "code",
   "execution_count": null,
   "id": "64485ac9",
   "metadata": {},
   "outputs": [],
   "source": []
  }
 ],
 "metadata": {
  "kernelspec": {
   "display_name": "base",
   "language": "python",
   "name": "python3"
  },
  "language_info": {
   "codemirror_mode": {
    "name": "ipython",
    "version": 3
   },
   "file_extension": ".py",
   "mimetype": "text/x-python",
   "name": "python",
   "nbconvert_exporter": "python",
   "pygments_lexer": "ipython3",
   "version": "3.12.2"
  }
 },
 "nbformat": 4,
 "nbformat_minor": 5
}
