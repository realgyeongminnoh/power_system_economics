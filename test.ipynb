{
 "cells": [
  {
   "cell_type": "code",
   "execution_count": 1,
   "id": "4a62b113",
   "metadata": {},
   "outputs": [
    {
     "name": "stdout",
     "output_type": "stream",
     "text": [
      "Set parameter Username\n",
      "Set parameter LicenseID to value 2659802\n",
      "Academic license - for non-commercial use only - expires 2026-05-01\n"
     ]
    }
   ],
   "source": [
    "import pickle\n",
    "from pathlib import Path\n",
    "import numpy as np\n",
    "import gurobipy as gp; gp.Model()\n",
    "import matplotlib.pyplot as plt\n",
    "from matplotlib.patches import Rectangle\n",
    "\n",
    "from src.input import Input_uc\n",
    "from src.output import Output_uc\n",
    "from src.unit_commitment import solve_uc_formulation_0, solve_uc_formulation_1, solve_uc_formulation_00"
   ]
  },
  {
   "cell_type": "code",
   "execution_count": 2,
   "id": "c4ff8d97",
   "metadata": {},
   "outputs": [],
   "source": [
    "num_units = 122\n",
    "num_periods = 24\n",
    "time_start, time_end = np.datetime64(\"2022-07-02T00\"), np.datetime64(\"2022-07-02T23\")"
   ]
  },
  {
   "cell_type": "code",
   "execution_count": 3,
   "id": "73bbd10c",
   "metadata": {},
   "outputs": [],
   "source": [
    "path_folder_processed = Path.cwd() / \"data\" / \"input\" / \"processed\"\n",
    "timestamp_2022 = np.load(path_folder_processed / \"timestamp_2022.npy\")\n",
    "idx_time_start, idx_time_end = np.where(timestamp_2022 == time_start)[0][0], np.where(timestamp_2022 == time_end)[0][0]\n",
    "idx_time_prev = idx_time_start - 1\n",
    "if idx_time_prev < 0:\n",
    "    raise NotImplementedError(\"not 2022-01-01T00 for the time start\")"
   ]
  },
  {
   "cell_type": "code",
   "execution_count": 4,
   "id": "af8198a5",
   "metadata": {},
   "outputs": [],
   "source": [
    "unit_type = np.load(path_folder_processed / \"unit_type.npy\")\n",
    "idx_nuclear = np.load(path_folder_processed / \"idx_nuclear.npy\")\n",
    "idx_coal = np.load(path_folder_processed / \"idx_coal.npy\")\n",
    "idx_lng = np.load(path_folder_processed / \"idx_lng.npy\")\n",
    "p_min = np.load(path_folder_processed / \"p_min.npy\")\n",
    "p_max = np.load(path_folder_processed / \"p_max.npy\")\n",
    "ramp_up = np.load(path_folder_processed / \"ramp_up.npy\")\n",
    "ramp_down = np.load(path_folder_processed / \"ramp_down.npy\")\n",
    "startup_ramp = np.load(path_folder_processed / \"startup_ramp.npy\")\n",
    "shutdown_ramp = np.load(path_folder_processed / \"shutdown_ramp.npy\")\n",
    "min_up = np.load(path_folder_processed / \"min_up.npy\")\n",
    "min_down = np.load(path_folder_processed / \"min_down.npy\")\n",
    "cost_lin = np.load(path_folder_processed / \"cost_lin.npy\")\n",
    "cost_const = np.load(path_folder_processed / \"cost_const.npy\")"
   ]
  },
  {
   "cell_type": "code",
   "execution_count": 5,
   "id": "17155591",
   "metadata": {},
   "outputs": [],
   "source": [
    "cost_startup_step_formulation_0 = pickle.load(open(path_folder_processed / \"cost_startup_step_formulation_0.pkl\", \"rb\"))\n",
    "num_cooling_steps_formulation_0 = np.load(path_folder_processed / \"num_cooling_steps_formulation_0.npy\")\n",
    "cost_startup_step_formulation_1 = np.load(path_folder_processed / \"cost_startup_step_formulation_1.npy\")\n",
    "step_length_formulation_1 = np.load(path_folder_processed / \"step_length_formulation_1.npy\")"
   ]
  },
  {
   "cell_type": "code",
   "execution_count": 6,
   "id": "4409b259",
   "metadata": {},
   "outputs": [],
   "source": [
    "demand_2022 = np.load(path_folder_processed / \"demand_2022.npy\")\n",
    "demand = demand_2022[idx_time_start:idx_time_end+1]"
   ]
  },
  {
   "cell_type": "code",
   "execution_count": 7,
   "id": "2d1f95fe",
   "metadata": {},
   "outputs": [],
   "source": [
    "# mustoff_2022 = np.load(path_folder_processed / \"mustoff_2022.npy\")"
   ]
  },
  {
   "cell_type": "code",
   "execution_count": 8,
   "id": "f26d57c9",
   "metadata": {},
   "outputs": [],
   "source": [
    "renewable_2022 = np.load(path_folder_processed / \"renewable_2022.npy\")\n",
    "renewable = renewable_2022[idx_time_start:idx_time_end+1]"
   ]
  },
  {
   "cell_type": "code",
   "execution_count": 9,
   "id": "038fa36f",
   "metadata": {},
   "outputs": [],
   "source": [
    "status_2022 = np.load(path_folder_processed / \"status_2022.npy\")\n",
    "u_prev = status_2022[:, idx_time_start-num_cooling_steps_formulation_0.max():idx_time_start]"
   ]
  },
  {
   "cell_type": "code",
   "execution_count": 10,
   "id": "bf4758a6",
   "metadata": {},
   "outputs": [],
   "source": [
    "# for TA marking: you can check like this easily for init condition correctness\n",
    "# for idx_unit, (u_prev_i, min_up_i) in enumerate(zip(u_prev, min_up)):\n",
    "#     summm = sum(u_prev_i[-min_up_i:])\n",
    "#     if summm not in (0, min_up_i):\n",
    "#         print(idx_unit, u_prev_i[-min_up_i:])\n",
    "\n",
    "# for idx_unit, (u_prev_i, min_down_i) in enumerate(zip(u_prev, min_down)):\n",
    "#     summm = sum(u_prev_i[-min_down_i:])\n",
    "#     if summm not in (0, min_down_i):\n",
    "#         print(idx_unit, u_prev_i[-min_down_i:])\n",
    "\n",
    "def _tail_count(seq, value):\n",
    "    cnt = 0\n",
    "    for x in reversed(seq):\n",
    "        if x == value:\n",
    "            cnt += 1\n",
    "        else:\n",
    "            break\n",
    "    return cnt\n",
    "\n",
    "min_up_r, min_down_r = [], []\n",
    "for hist, mu, md in zip(u_prev, min_up, min_down):\n",
    "    on_tail  = _tail_count(hist, 1)\n",
    "    off_tail = _tail_count(hist, 0)\n",
    "\n",
    "    if on_tail:\n",
    "        min_up_r.append(max(0, mu - on_tail))\n",
    "        min_down_r.append(0)\n",
    "    else:\n",
    "        min_up_r.append(0)\n",
    "        min_down_r.append(max(0, md - off_tail))\n",
    "\n",
    "min_up_r, min_down_r = np.array(min_up_r).astype(np.int64), np.array(min_down_r).astype(np.int64)"
   ]
  },
  {
   "cell_type": "code",
   "execution_count": 11,
   "id": "552d65d1",
   "metadata": {},
   "outputs": [],
   "source": [
    "def _tail_count(seq, value):\n",
    "    cnt = 0\n",
    "    for x in reversed(seq):\n",
    "        if x == value:\n",
    "            cnt += 1\n",
    "        else:\n",
    "            break\n",
    "    return cnt\n",
    "\n",
    "min_up_0 = np.array(\n",
    "    [_tail_count(u_prev[g], 1) for g in range(num_units)], dtype=np.int64\n",
    ")\n",
    "min_down_0 = np.array(\n",
    "    [_tail_count(u_prev[g], 0) for g in range(num_units)], dtype=np.int64\n",
    ")"
   ]
  },
  {
   "cell_type": "markdown",
   "id": "60b154cb",
   "metadata": {},
   "source": [
    "---\n",
    "---\n",
    "---"
   ]
  },
  {
   "cell_type": "code",
   "execution_count": 12,
   "id": "893c4f81",
   "metadata": {},
   "outputs": [],
   "source": [
    "idx_u_prev_up = u_prev[:, -1].astype(bool)\n",
    "p_prev = np.zeros(num_units)\n",
    "p_prev[idx_u_prev_up] = p_min[idx_u_prev_up]"
   ]
  },
  {
   "cell_type": "code",
   "execution_count": 13,
   "id": "5d6c71e4",
   "metadata": {},
   "outputs": [
    {
     "data": {
      "text/plain": [
       "np.float64(74980.999925019)"
      ]
     },
     "execution_count": 13,
     "metadata": {},
     "output_type": "execute_result"
    }
   ],
   "source": [
    "demand.max()"
   ]
  },
  {
   "cell_type": "code",
   "execution_count": 14,
   "id": "815a71e3",
   "metadata": {},
   "outputs": [
    {
     "data": {
      "text/plain": [
       "np.float64(81102.0)"
      ]
     },
     "execution_count": 14,
     "metadata": {},
     "output_type": "execute_result"
    }
   ],
   "source": [
    "p_max.sum() - (p_max[idx_coal] - p_min[idx_coal]).sum()"
   ]
  },
  {
   "cell_type": "code",
   "execution_count": 15,
   "id": "ff52265b",
   "metadata": {},
   "outputs": [
    {
     "data": {
      "text/plain": [
       "array([550., 550.])"
      ]
     },
     "execution_count": 15,
     "metadata": {},
     "output_type": "execute_result"
    }
   ],
   "source": [
    "p_max[-2:]"
   ]
  },
  {
   "cell_type": "code",
   "execution_count": 16,
   "id": "5e688836",
   "metadata": {},
   "outputs": [],
   "source": [
    "input_uc = Input_uc(\n",
    "    unit_type=unit_type,\n",
    "    idx_nuclear=idx_nuclear,\n",
    "    idx_coal=idx_coal,\n",
    "    idx_lng=idx_lng,\n",
    "    num_units=num_units,\n",
    "    num_periods=num_periods,\n",
    "    #########################\n",
    "    demand=demand,\n",
    "    # np.linspace(p_min.sum(), p_max.sum() - (p_max[idx_coal] - p_min[idx_coal]).sum(), num_periods), # demand,\n",
    "    reserve=(demand - renewable) * 0.15,\n",
    "    # np.full((num_periods), (p_max[idx_coal] - p_min[idx_coal]).sum()), # (demand - renewable) * 0.05,\n",
    "    renewable=renewable,\n",
    "    # np.zeros((num_periods)), # renewable,\n",
    "    #########################\n",
    "    p_min=p_min,\n",
    "    p_max=p_max,\n",
    "    ramp_up=ramp_up,\n",
    "    ramp_down=ramp_down,\n",
    "    startup_ramp=startup_ramp,\n",
    "    shutdown_ramp=shutdown_ramp,\n",
    "    min_up=min_up,\n",
    "    min_down=min_down,\n",
    "    #########################\n",
    "    cost_lin=cost_lin,\n",
    "    cost_const=cost_const,\n",
    "    #########################\n",
    "    cost_startup_step_formulation_0=cost_startup_step_formulation_0,\n",
    "    num_cooling_steps_formulation_0=num_cooling_steps_formulation_0,\n",
    "    cost_startup_step_formulation_1=cost_startup_step_formulation_1,\n",
    "    step_length_formulation_1=step_length_formulation_1,\n",
    "    #########################\n",
    "    p_prev=p_prev,\n",
    "    u_prev=u_prev,\n",
    "    min_up_r=min_up_r,\n",
    "    min_down_r=min_down_r,\n",
    "    min_up_0=min_up_0,\n",
    "    min_down_0=min_down_0,\n",
    ")"
   ]
  },
  {
   "cell_type": "markdown",
   "id": "17b9b556",
   "metadata": {},
   "source": [
    "---\n",
    "---\n",
    "---"
   ]
  },
  {
   "cell_type": "code",
   "execution_count": null,
   "id": "be145015",
   "metadata": {},
   "outputs": [
    {
     "name": "stdout",
     "output_type": "stream",
     "text": [
      "Set parameter OutputFlag to value 1\n",
      "Set parameter Symmetry to value 2\n",
      "Set parameter PreDual to value 2\n",
      "Set parameter Presolve to value 1\n",
      "Set parameter PreSparsify to value 2\n",
      "Set parameter Disconnected to value 2\n",
      "Set parameter Heuristics to value 1\n",
      "Set parameter ProjImpliedCuts to value 2\n",
      "Set parameter MIPGap to value 0\n",
      "Set parameter MIPGapAbs to value 0\n",
      "Set parameter IntFeasTol to value 1e-09\n",
      "Set parameter FeasibilityTol to value 1e-09\n",
      "Set parameter OptimalityTol to value 1e-09\n",
      "Gurobi Optimizer version 12.0.1 build v12.0.1rc0 (linux64 - \"Arch Linux\")\n",
      "\n",
      "CPU model: 12th Gen Intel(R) Core(TM) i7-12700, instruction set [SSE2|AVX|AVX2]\n",
      "Thread count: 20 physical cores, 20 logical processors, using up to 20 threads\n",
      "\n",
      "Non-default parameters:\n",
      "FeasibilityTol  1e-09\n",
      "IntFeasTol  1e-09\n",
      "MIPGap  0\n",
      "MIPGapAbs  0\n",
      "OptimalityTol  1e-09\n",
      "Disconnected  2\n",
      "Heuristics  1\n",
      "Symmetry  2\n",
      "ProjImpliedCuts  2\n",
      "PreDual  2\n",
      "Presolve  1\n",
      "PreSparsify  2\n",
      "\n",
      "Optimize a model with 35988 rows, 23424 columns and 138264 nonzeros\n",
      "Model fingerprint: 0xbbcf2b47\n",
      "Variable types: 5856 continuous, 17568 integer (17568 binary)\n",
      "Coefficient statistics:\n",
      "  Matrix range     [1e+00, 1e+03]\n",
      "  Objective range  [3e+03, 6e+07]\n",
      "  Bounds range     [1e+00, 7e+02]\n",
      "  RHS range        [1e+00, 7e+04]\n",
      "Presolve removed 21975 rows and 10127 columns\n",
      "Presolve time: 0.20s\n",
      "Presolved: 14013 rows, 13297 columns, 72159 nonzeros\n",
      "Variable types: 4471 continuous, 8826 integer (8826 binary)\n",
      "Found heuristic solution: objective 4.457431e+10\n",
      "Found heuristic solution: objective 4.134073e+10\n",
      "Found heuristic solution: objective 4.072124e+10\n",
      "\n",
      "Root relaxation: objective 2.749729e+10, 7584 iterations, 0.12 seconds (0.23 work units)\n",
      "\n",
      "    Nodes    |    Current Node    |     Objective Bounds      |     Work\n",
      " Expl Unexpl |  Obj  Depth IntInf | Incumbent    BestBd   Gap | It/Node Time\n",
      "\n",
      "     0     0 2.7497e+10    0   78 4.0721e+10 2.7497e+10  32.5%     -    0s\n",
      "     0     0 2.7498e+10    0  123 4.0721e+10 2.7498e+10  32.5%     -    0s\n",
      "     0     0 2.7499e+10    0  123 4.0721e+10 2.7499e+10  32.5%     -    0s\n",
      "H    0     0                    2.789702e+10 2.7499e+10  1.43%     -    0s\n",
      "H    0     0                    2.786849e+10 2.7499e+10  1.33%     -    0s\n",
      "     0     0 2.7499e+10    0  127 2.7868e+10 2.7499e+10  1.32%     -    0s\n",
      "     0     0 2.7500e+10    0  121 2.7868e+10 2.7500e+10  1.32%     -    0s\n",
      "     0     0 2.7500e+10    0  117 2.7868e+10 2.7500e+10  1.32%     -    0s\n",
      "     0     0 2.7500e+10    0  123 2.7868e+10 2.7500e+10  1.32%     -    0s\n",
      "     0     0 2.7500e+10    0  132 2.7868e+10 2.7500e+10  1.32%     -    0s\n",
      "H    0     0                    2.777628e+10 2.7500e+10  0.99%     -    0s\n",
      "H    0     0                    2.776269e+10 2.7500e+10  0.95%     -    0s\n",
      "H    0     0                    2.765649e+10 2.7500e+10  0.57%     -    0s\n",
      "H    0     0                    2.763658e+10 2.7500e+10  0.49%     -    0s\n",
      "H    0     0                    2.756983e+10 2.7500e+10  0.25%     -    0s\n",
      "H    0     0                    2.756793e+10 2.7500e+10  0.25%     -    0s\n",
      "H    0     0                    2.756545e+10 2.7500e+10  0.24%     -    0s\n",
      "H    0     0                    2.755820e+10 2.7500e+10  0.21%     -    0s\n",
      "     0     0 2.7500e+10    0  131 2.7558e+10 2.7500e+10  0.21%     -    0s\n",
      "     0     0 2.7500e+10    0  168 2.7558e+10 2.7500e+10  0.21%     -    0s\n",
      "     0     0 2.7500e+10    0  163 2.7558e+10 2.7500e+10  0.21%     -    1s\n",
      "     0     0 2.7500e+10    0  159 2.7558e+10 2.7500e+10  0.21%     -    1s\n",
      "     0     0 2.7500e+10    0  168 2.7558e+10 2.7500e+10  0.21%     -    1s\n",
      "     0     0 2.7500e+10    0  165 2.7558e+10 2.7500e+10  0.21%     -    1s\n",
      "     0     0 2.7500e+10    0  177 2.7558e+10 2.7500e+10  0.21%     -    1s\n",
      "     0     0 2.7500e+10    0  176 2.7558e+10 2.7500e+10  0.21%     -    1s\n",
      "     0     0 2.7500e+10    0  173 2.7558e+10 2.7500e+10  0.21%     -    1s\n",
      "     0     0 2.7501e+10    0  172 2.7558e+10 2.7501e+10  0.21%     -    1s\n",
      "     0     0 2.7501e+10    0   69 2.7558e+10 2.7501e+10  0.21%     -    2s\n",
      "     0     0 2.7501e+10    0   62 2.7558e+10 2.7501e+10  0.21%     -    2s\n",
      "     0     0 2.7501e+10    0  113 2.7558e+10 2.7501e+10  0.21%     -    2s\n",
      "     0     0 2.7501e+10    0  126 2.7558e+10 2.7501e+10  0.21%     -    2s\n",
      "     0     0 2.7501e+10    0  148 2.7558e+10 2.7501e+10  0.21%     -    2s\n",
      "     0     0 2.7501e+10    0  136 2.7558e+10 2.7501e+10  0.21%     -    2s\n",
      "     0     0 2.7501e+10    0  165 2.7558e+10 2.7501e+10  0.21%     -    2s\n",
      "     0     0 2.7501e+10    0  171 2.7558e+10 2.7501e+10  0.21%     -    2s\n",
      "     0     0 2.7501e+10    0  198 2.7558e+10 2.7501e+10  0.21%     -    2s\n",
      "     0     0 2.7501e+10    0  190 2.7558e+10 2.7501e+10  0.21%     -    2s\n",
      "     0     0 2.7501e+10    0  190 2.7558e+10 2.7501e+10  0.21%     -    2s\n",
      "H    0     0                    2.755772e+10 2.7501e+10  0.20%     -    2s\n",
      "     0     0 2.7502e+10    0  200 2.7558e+10 2.7502e+10  0.20%     -    2s\n",
      "     0     0 2.7502e+10    0  197 2.7558e+10 2.7502e+10  0.20%     -    2s\n",
      "     0     0 2.7502e+10    0  205 2.7558e+10 2.7502e+10  0.20%     -    2s\n",
      "     0     0 2.7502e+10    0  202 2.7558e+10 2.7502e+10  0.20%     -    2s\n",
      "     0     0 2.7502e+10    0  209 2.7558e+10 2.7502e+10  0.20%     -    2s\n",
      "     0     0 2.7502e+10    0  204 2.7558e+10 2.7502e+10  0.20%     -    2s\n",
      "     0     0 2.7502e+10    0  203 2.7558e+10 2.7502e+10  0.20%     -    2s\n",
      "H    0     0                    2.755659e+10 2.7502e+10  0.20%     -    2s\n",
      "     0     0 2.7502e+10    0  206 2.7557e+10 2.7502e+10  0.20%     -    2s\n",
      "     0     0 2.7502e+10    0  207 2.7557e+10 2.7502e+10  0.20%     -    2s\n",
      "     0     0 2.7502e+10    0  215 2.7557e+10 2.7502e+10  0.20%     -    2s\n",
      "     0     0 2.7502e+10    0  218 2.7557e+10 2.7502e+10  0.20%     -    3s\n",
      "     0     0 2.7502e+10    0  207 2.7557e+10 2.7502e+10  0.20%     -    3s\n",
      "H    0     0                    2.754322e+10 2.7502e+10  0.15%     -    3s\n",
      "H    0     0                    2.754233e+10 2.7502e+10  0.15%     -    3s\n",
      "     0     0 2.7502e+10    0  219 2.7542e+10 2.7502e+10  0.15%     -    3s\n",
      "     0     0 2.7502e+10    0  219 2.7542e+10 2.7502e+10  0.15%     -    3s\n",
      "H    0     0                    2.754185e+10 2.7502e+10  0.15%     -    3s\n",
      "H    0     0                    2.754061e+10 2.7502e+10  0.14%     -    3s\n",
      "H    0     0                    2.754024e+10 2.7502e+10  0.14%     -    3s\n",
      "H    0     0                    2.753023e+10 2.7502e+10  0.10%     -    3s\n",
      "H    0     0                    2.752864e+10 2.7502e+10  0.10%     -    3s\n",
      "H    0     0                    2.752861e+10 2.7502e+10  0.10%     -    3s\n",
      "H    0     0                    2.752799e+10 2.7502e+10  0.09%     -    3s\n",
      "     0     0 2.7502e+10    0   78 2.7528e+10 2.7502e+10  0.09%     -    3s\n",
      "     0     0 2.7502e+10    0   63 2.7528e+10 2.7502e+10  0.09%     -    3s\n",
      "     0     0 2.7502e+10    0  108 2.7528e+10 2.7502e+10  0.09%     -    3s\n",
      "     0     0 2.7502e+10    0  134 2.7528e+10 2.7502e+10  0.09%     -    3s\n",
      "     0     0 2.7502e+10    0  151 2.7528e+10 2.7502e+10  0.09%     -    3s\n",
      "     0     0 2.7502e+10    0  141 2.7528e+10 2.7502e+10  0.09%     -    3s\n",
      "     0     0 2.7502e+10    0  152 2.7528e+10 2.7502e+10  0.09%     -    3s\n",
      "     0     0 2.7502e+10    0  152 2.7528e+10 2.7502e+10  0.09%     -    3s\n",
      "     0     0 2.7502e+10    0  151 2.7528e+10 2.7502e+10  0.09%     -    3s\n",
      "     0     0 2.7502e+10    0  170 2.7528e+10 2.7502e+10  0.09%     -    3s\n",
      "     0     0 2.7502e+10    0  200 2.7528e+10 2.7502e+10  0.09%     -    3s\n",
      "     0     0 2.7502e+10    0  200 2.7528e+10 2.7502e+10  0.09%     -    3s\n",
      "     0     0 2.7502e+10    0  199 2.7528e+10 2.7502e+10  0.09%     -    3s\n",
      "     0     0 2.7502e+10    0  199 2.7528e+10 2.7502e+10  0.09%     -    3s\n",
      "     0     0 2.7502e+10    0  228 2.7528e+10 2.7502e+10  0.09%     -    3s\n",
      "     0     0 2.7502e+10    0  207 2.7528e+10 2.7502e+10  0.09%     -    3s\n",
      "     0     0 2.7502e+10    0  207 2.7528e+10 2.7502e+10  0.09%     -    3s\n",
      "     0     0 2.7502e+10    0  226 2.7528e+10 2.7502e+10  0.09%     -    3s\n",
      "     0     0 2.7502e+10    0  224 2.7528e+10 2.7502e+10  0.09%     -    4s\n",
      "     0     0 2.7502e+10    0  213 2.7528e+10 2.7502e+10  0.09%     -    4s\n",
      "     0     0 2.7502e+10    0  209 2.7528e+10 2.7502e+10  0.09%     -    4s\n",
      "     0     0 2.7502e+10    0  212 2.7528e+10 2.7502e+10  0.09%     -    4s\n",
      "     0     0 2.7502e+10    0  205 2.7528e+10 2.7502e+10  0.09%     -    4s\n",
      "     0     0 2.7502e+10    0  219 2.7528e+10 2.7502e+10  0.09%     -    4s\n",
      "     0     0 2.7502e+10    0  224 2.7528e+10 2.7502e+10  0.09%     -    4s\n",
      "     0     0 2.7502e+10    0  224 2.7528e+10 2.7502e+10  0.09%     -    4s\n",
      "     0     0 2.7502e+10    0  222 2.7528e+10 2.7502e+10  0.09%     -    4s\n",
      "     0     0 2.7502e+10    0  224 2.7528e+10 2.7502e+10  0.09%     -    4s\n",
      "     0     0 2.7502e+10    0  224 2.7528e+10 2.7502e+10  0.09%     -    4s\n",
      "     0     2 2.7502e+10    0  224 2.7528e+10 2.7502e+10  0.09%     -    4s\n",
      "H   35    52                    2.752788e+10 2.7502e+10  0.09%  74.5    4s\n",
      "H   37    52                    2.752721e+10 2.7502e+10  0.09%  71.8    4s\n",
      "    51   119 2.7503e+10    6  222 2.7527e+10 2.7503e+10  0.09%  91.5    5s\n",
      "H  120   159                    2.752344e+10 2.7503e+10  0.08%  64.6    5s\n",
      "H  718   886                    2.752062e+10 2.7503e+10  0.07%  39.1    6s\n",
      "H  991  2108                    2.752036e+10 2.7503e+10  0.06%  36.4    7s\n",
      "H 1186  2108                    2.751759e+10 2.7503e+10  0.05%  33.5    7s\n",
      "H 2240  3457                    2.751669e+10 2.7503e+10  0.05%  26.1    7s\n",
      "H 2284  3455                    2.751640e+10 2.7503e+10  0.05%  26.1    7s\n",
      "H 2481  3450                    2.751616e+10 2.7503e+10  0.05%  25.4    7s\n",
      "H 4040  4077                    2.751599e+10 2.7503e+10  0.05%  21.5    8s\n",
      "H 5003  3866                    2.751574e+10 2.7503e+10  0.05%  21.9    8s\n",
      "H 5018  3682                    2.751573e+10 2.7504e+10  0.04%  21.8    8s\n",
      "  5075  3722 2.7512e+10   67  135 2.7516e+10 2.7510e+10  0.02%  22.5   10s\n",
      "H 9575  5353                    2.751570e+10 2.7511e+10  0.02%  29.9   13s\n",
      " 14175  6525     cutoff   48      2.7516e+10 2.7512e+10  0.01%  29.7   15s\n",
      " 20783  8972 2.7513e+10   31  184 2.7516e+10 2.7512e+10  0.01%  31.0   20s\n",
      " 28384 12466 2.7513e+10   37  148 2.7516e+10 2.7512e+10  0.01%  31.9   25s\n",
      " 30044 13145 2.7516e+10   43  138 2.7516e+10 2.7513e+10  0.01%  31.9   30s\n",
      " 35544 15695 2.7515e+10   33  157 2.7516e+10 2.7513e+10  0.01%  32.5   35s\n",
      " 42916 18706 2.7515e+10   50  107 2.7516e+10 2.7513e+10  0.01%  33.3   40s\n",
      " 46392 18742 2.7514e+10   36  210 2.7516e+10 2.7513e+10  0.01%  33.5   45s\n",
      " 46811 18781 2.7515e+10   60  118 2.7516e+10 2.7514e+10  0.01%  33.8   50s\n",
      " 57264 18846 2.7515e+10   79   37 2.7516e+10 2.7515e+10  0.00%  30.5   55s\n"
     ]
    }
   ],
   "source": [
    "output_uc_1 = Output_uc()\n",
    "model, constr_generation, constr_reserve = solve_uc_formulation_1(input_uc=input_uc, output_uc=output_uc_1, verbose=True, test=False)"
   ]
  },
  {
   "cell_type": "code",
   "execution_count": null,
   "id": "f1118ba0",
   "metadata": {},
   "outputs": [],
   "source": [
    "def plot_heatmap(input_uc: Input_uc, output_uc: Output_uc, fig_height: float = 20, pad_rectangle: float = None):\n",
    "    cmap = plt.cm.jet.copy()\n",
    "    cmap.set_bad(color=\"white\")\n",
    "    num_periods = output_uc.p.shape[1]\n",
    "\n",
    "    idx_marginal_unit_per_period = np.array([\n",
    "        int(np.where(input_uc.cost_lin == mpg)[0][0]) \n",
    "        if mpg > 0 else -2 # for test (demand = 0 to blackstart) result plot purpose\n",
    "        for mpg in output_uc.marginal_price_generation\n",
    "        ])\n",
    "\n",
    "    helper = [\n",
    "        (input_uc.idx_lng, len(input_uc.idx_nuclear) + len(input_uc.idx_coal)),\n",
    "        (input_uc.idx_coal, len(input_uc.idx_nuclear)),\n",
    "        (input_uc.idx_nuclear, 0),\n",
    "    ]\n",
    "\n",
    "    fig, axes = plt.subplots(3, 1, figsize=(fig_height, fig_height), gridspec_kw={\"height_ratios\": [56/122, 41/122, 25/122]}, sharex=True)\n",
    "\n",
    "    for ax, (idx_type, idx_start) in zip(axes, helper):\n",
    "        p_type = output_uc.p[idx_type]\n",
    "        num_units_type = len(p_type)\n",
    "        p_min_type = np.tile(input_uc.p_min[idx_type][:, None], reps=num_periods)\n",
    "        p_max_type = np.tile(input_uc.p_max[idx_type][:, None], reps=num_periods)\n",
    "        heatmap = (p_type - p_min_type) / (p_max_type - p_min_type) * 100\n",
    "        heatmap[p_type == 0] = np.nan\n",
    "\n",
    "        #\n",
    "        ax.imshow(\n",
    "            heatmap,\n",
    "            aspect=\"auto\",\n",
    "            origin=\"lower\",\n",
    "            extent=[0.5, input_uc.num_periods + 0.5, idx_start, idx_start + num_units_type],\n",
    "            cmap=cmap,\n",
    "            vmin=0,\n",
    "            vmax=100,\n",
    "        )\n",
    "        \n",
    "        #\n",
    "        pad_rectangle = 0.066 / 20 * fig_height if pad_rectangle is None else pad_rectangle\n",
    "        for t in range(num_periods):\n",
    "            u_abs = idx_marginal_unit_per_period[t]\n",
    "            if idx_start <= u_abs < idx_start + num_units_type:\n",
    "\n",
    "                rect_h = Rectangle(\n",
    "                    (t + 0.5 + pad_rectangle, u_abs), 1 - 2 * pad_rectangle, 1,\n",
    "                    fill=False,\n",
    "                    edgecolor=\"white\",\n",
    "                    facecolor=\"none\",\n",
    "                    hatch=\"///\",\n",
    "                    linewidth=0,\n",
    "                    zorder=3\n",
    "                )\n",
    "                rect_h.set_hatch_linewidth(fig_height / 10)\n",
    "                ax.add_patch(rect_h)\n",
    "\n",
    "                ax.add_patch(\n",
    "                    Rectangle(\n",
    "                        (t + 0.5 + pad_rectangle, u_abs), 1 - 2 * pad_rectangle, 1,\n",
    "                        fill=False,\n",
    "                        edgecolor=\"black\",\n",
    "                        facecolor=\"none\",\n",
    "                        # hatch=\"//\",\n",
    "                        linewidth=fig_height / 5,\n",
    "                        zorder=3\n",
    "                    )\n",
    "                )\n",
    "\n",
    "        #\n",
    "        ax.set_yticks([idx_start, idx_start + num_units_type - 1])\n",
    "        ax.set_yticklabels([idx_start + 1, idx_start + num_units_type])\n",
    "        ax.tick_params(axis=\"both\", width=fig_height / 10, length=fig_height / 2, pad=fig_height / 2, labelsize=fig_height * 2)\n",
    "        for side in [\"bottom\", \"left\", \"top\", \"right\"]:\n",
    "            ax.spines[side].set_linewidth(fig_height / 10)\n",
    "\n",
    "    if num_periods == 24:\n",
    "        axes[-1].set_xticks([1, 6, 12, 18, 24])\n",
    "        axes[-1].set_xticklabels([1, 6, 12, 18, 24])\n",
    "\n",
    "    # axes[-2].hlines(y=57, xmin=1, xmax=24, colors=\"black\", ls=\"--\") # for TA: you can test like this the 57th (0-based) idx unit will be shown\n",
    "\n",
    "    plt.tight_layout()\n",
    "    plt.show(fig)"
   ]
  },
  {
   "cell_type": "code",
   "execution_count": null,
   "id": "83d7cfb6",
   "metadata": {},
   "outputs": [
    {
     "data": {
      "image/png": "[encoded data removed]",
      "text/plain": [
       "<Figure size 2000x2000 with 3 Axes>"
      ]
     },
     "metadata": {},
     "output_type": "display_data"
    }
   ],
   "source": [
    "plot_heatmap(input_uc=input_uc, output_uc=output_uc_1, fig_height=20, pad_rectangle=0.02)"
   ]
  },
  {
   "cell_type": "code",
   "execution_count": null,
   "id": "20885e56",
   "metadata": {},
   "outputs": [
    {
     "data": {
      "text/plain": [
       "array([0., 0., 0., 0., 0., 0., 0., 0., 0., 0., 0., 0., 0., 0., 0., 0., 0.,\n",
       "       0., 0., 0., 0., 0., 0., 0.])"
      ]
     },
     "execution_count": 20,
     "metadata": {},
     "output_type": "execute_result"
    }
   ],
   "source": [
    "output_uc_1.marginal_price_reserve"
   ]
  },
  {
   "cell_type": "code",
   "execution_count": null,
   "id": "ba542258",
   "metadata": {},
   "outputs": [
    {
     "data": {
      "text/plain": [
       "array([26607.723  , 26369.37889, 26256.4005 , 26223.98471, 26223.98471,\n",
       "       26205.32122, 25934.74864, 25338.54588, 23860.49012, 23768.48326,\n",
       "       23768.48326, 23674.92985, 23674.92985, 23860.49012, 24490.33832,\n",
       "       25784.23435, 26223.98471, 26607.723  , 27173.7834 , 47856.8101 ,\n",
       "       47856.8101 , 27173.7834 , 26958.35981, 26820.5252 ])"
      ]
     },
     "execution_count": 21,
     "metadata": {},
     "output_type": "execute_result"
    }
   ],
   "source": [
    "output_uc_1.marginal_price_generation"
   ]
  },
  {
   "cell_type": "code",
   "execution_count": null,
   "id": "88bbe6cf",
   "metadata": {},
   "outputs": [
    {
     "data": {
      "text/plain": [
       "27515695426.48933"
      ]
     },
     "execution_count": 22,
     "metadata": {},
     "output_type": "execute_result"
    }
   ],
   "source": [
    "output_uc_1.total_cost"
   ]
  },
  {
   "cell_type": "code",
   "execution_count": null,
   "id": "015236ea",
   "metadata": {},
   "outputs": [
    {
     "data": {
      "text/plain": [
       "array([22911.99596, 22969.6403 , 23001.88453, 23263.92503, 23293.34293,\n",
       "       23428.72105, 23553.71598, 23674.92985, 23768.48326, 23851.20778,\n",
       "       23858.36416, 23860.49012, 23939.20955, 24268.56934, 24296.90952,\n",
       "       24490.33832, 24847.36387, 25338.54588, 25414.2174 , 25458.68003,\n",
       "       25501.66189, 25717.73146, 25784.23435, 25786.8722 , 25788.19927,\n",
       "       25934.74864, 25939.04663, 26205.32122, 26223.98471, 26256.4005 ,\n",
       "       26325.44964, 26369.37889, 26388.0225 , 26560.57184, 26607.723  ,\n",
       "       26820.5252 , 26939.88995, 26958.35981, 26969.07006, 27115.92314,\n",
       "       27173.7834 ])"
      ]
     },
     "execution_count": 23,
     "metadata": {},
     "output_type": "execute_result"
    }
   ],
   "source": [
    "cost_lin[idx_coal]"
   ]
  },
  {
   "cell_type": "code",
   "execution_count": null,
   "id": "f6549fde",
   "metadata": {},
   "outputs": [
    {
     "data": {
      "text/plain": [
       "array([540., 540., 600., 600., 600., 420., 600., 600., 540., 480., 600.,\n",
       "       600., 600., 438., 600., 660., 600., 600., 540., 600., 600., 480.,\n",
       "       600., 300., 420., 600., 720., 420., 660., 600., 600., 600., 120.,\n",
       "       600., 720., 540., 600., 540., 600., 540., 660.])"
      ]
     },
     "execution_count": 24,
     "metadata": {},
     "output_type": "execute_result"
    }
   ],
   "source": [
    "p_max[idx_coal] - p_min[idx_coal]"
   ]
  },
  {
   "cell_type": "code",
   "execution_count": null,
   "id": "9c0cbff7",
   "metadata": {},
   "outputs": [
    {
     "data": {
      "text/plain": [
       "array([0., 0., 0., 0., 0., 0., 0., 0., 0., 0., 0., 0., 0., 0., 0., 0., 0.,\n",
       "       0., 0., 0., 0., 0., 0., 0.])"
      ]
     },
     "execution_count": 25,
     "metadata": {},
     "output_type": "execute_result"
    }
   ],
   "source": [
    "output_uc_1.marginal_price_reserve"
   ]
  },
  {
   "cell_type": "code",
   "execution_count": null,
   "id": "c7f517bf",
   "metadata": {},
   "outputs": [
    {
     "data": {
      "text/plain": [
       "array([ 9386.86259128,  8941.60805423,  8650.15089804,  8490.03919082,\n",
       "        8487.36101893,  8383.35989903,  8040.21341266,  7485.1030753 ,\n",
       "        6974.45622833,  6667.74825499,  6660.33474668,  6567.77395385,\n",
       "        6606.19851338,  6908.068304  ,  7311.99834093,  7851.39400375,\n",
       "        8583.65028552,  9412.11136956, 10251.41021536, 10750.76473383,\n",
       "       10782.16118881, 10303.81226527,  9794.26461914,  9456.3357958 ])"
      ]
     },
     "execution_count": 26,
     "metadata": {},
     "output_type": "execute_result"
    }
   ],
   "source": [
    "output_uc_1.r.sum(axis=0)"
   ]
  },
  {
   "cell_type": "code",
   "execution_count": null,
   "id": "ee563041",
   "metadata": {},
   "outputs": [
    {
     "ename": "AttributeError",
     "evalue": "'PyCapsule' object has no attribute 'DualResidual'",
     "output_type": "error",
     "traceback": [
      "\u001b[0;31m---------------------------------------------------------------------------\u001b[0m",
      "\u001b[0;31mAttributeError\u001b[0m                            Traceback (most recent call last)",
      "Cell \u001b[0;32mIn[27], line 1\u001b[0m\n\u001b[0;32m----> 1\u001b[0m \u001b[43mconstr_reserve\u001b[49m\u001b[43m[\u001b[49m\u001b[38;5;241;43m23\u001b[39;49m\u001b[43m]\u001b[49m\u001b[38;5;241;43m.\u001b[39;49m\u001b[43m_cmodel\u001b[49m\u001b[38;5;241;43m.\u001b[39;49m\u001b[43mDualResidual\u001b[49m\n",
      "\u001b[0;31mAttributeError\u001b[0m: 'PyCapsule' object has no attribute 'DualResidual'"
     ]
    }
   ],
   "source": [
    "constr_reserve[23]._cmodel.DualResidual"
   ]
  },
  {
   "cell_type": "code",
   "execution_count": null,
   "id": "b2f0e9cd",
   "metadata": {},
   "outputs": [
    {
     "data": {
      "text/plain": [
       "0.0"
      ]
     },
     "execution_count": 42,
     "metadata": {},
     "output_type": "execute_result"
    }
   ],
   "source": [
    "model.HasDualNorm"
   ]
  },
  {
   "cell_type": "code",
   "execution_count": null,
   "id": "61b2cbff",
   "metadata": {},
   "outputs": [],
   "source": []
  }
 ],
 "metadata": {
  "kernelspec": {
   "display_name": "base",
   "language": "python",
   "name": "python3"
  },
  "language_info": {
   "codemirror_mode": {
    "name": "ipython",
    "version": 3
   },
   "file_extension": ".py",
   "mimetype": "text/x-python",
   "name": "python",
   "nbconvert_exporter": "python",
   "pygments_lexer": "ipython3",
   "version": "3.12.2"
  }
 },
 "nbformat": 4,
 "nbformat_minor": 5
}
