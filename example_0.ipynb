{
 "cells": [
  {
   "cell_type": "markdown",
   "id": "e102bece",
   "metadata": {},
   "source": [
    "**LECTURE NOTE TOY EXAMPLE**"
   ]
  },
  {
   "cell_type": "code",
   "execution_count": 1,
   "id": "4f2e7358",
   "metadata": {},
   "outputs": [
    {
     "name": "stdout",
     "output_type": "stream",
     "text": [
      "Set parameter Username\n",
      "Set parameter LicenseID to value 2659802\n",
      "Academic license - for non-commercial use only - expires 2026-05-01\n"
     ]
    }
   ],
   "source": [
    "import numpy as np\n",
    "import gurobipy as gp; gp.Model()\n",
    "\n",
    "from src.input import Input_uc\n",
    "from src.output import Output_uc\n",
    "from src.unit_commitment import solve_uc_formulation_0, solve_uc_formulation_1"
   ]
  },
  {
   "cell_type": "code",
   "execution_count": 2,
   "id": "7a9858cf",
   "metadata": {},
   "outputs": [],
   "source": [
    "input_uc = Input_uc(\n",
    "    unit_type=None,\n",
    "    idx_nuclear=None,\n",
    "    idx_coal=None,\n",
    "    idx_lng=None,\n",
    "    num_units=3,\n",
    "    num_periods=6,\n",
    "    #########################\n",
    "    demand=np.array([220, 250, 200, 170, 230, 190]),\n",
    "    reserve=np.full((6), 10), # np.array([20, 10, 10, 10, 20, 10]), # \n",
    "    renewable=np.zeros((6)),\n",
    "    #########################\n",
    "    p_min=np.array([80, 50 , 30]),\n",
    "    p_max=np.array([300, 200 , 100]),\n",
    "    ramp_up=np.array([50, 60, 70]),\n",
    "    ramp_down=np.array([30, 40, 50]),\n",
    "    startup_ramp=np.array([100, 70, 40]),\n",
    "    shutdown_ramp=np.array([80, 50, 30]),\n",
    "    min_up=np.array([3, 2, 2]),\n",
    "    min_down=np.array([2, 2, 2]),\n",
    "    #########################\n",
    "    cost_lin=np.array([5, 15, 30]),\n",
    "    cost_const=np.zeros((3)),\n",
    "    #########################\n",
    "    cost_startup_step=np.array([[0], [0], [0]]),\n",
    "    num_cooling_steps=np.array([1, 1, 1]),\n",
    "    #########################\n",
    "    p_prev=np.array([120, 0, 0]),\n",
    "    p_tight_prev=np.array([120, 0, 0]) - np.array([80, 50 , 30]) * np.array([1 , 0, 0]),\n",
    "    u_prev=np.array([[1], [0], [0]]), \n",
    "    min_up_r=np.array([2, 0, 0]), \n",
    "    min_down_r=np.array([0, 0, 0]), \n",
    "    min_up_0=np.array([1, 0, 0]), \n",
    "    min_down_0=np.array([0, 0, 0]), \n",
    ")"
   ]
  },
  {
   "cell_type": "code",
   "execution_count": 3,
   "id": "e751f956",
   "metadata": {},
   "outputs": [],
   "source": [
    "output_uc = Output_uc()\n",
    "solve_uc_formulation_0(input_uc=input_uc, output_uc=output_uc)"
   ]
  },
  {
   "cell_type": "code",
   "execution_count": 4,
   "id": "ecc92639",
   "metadata": {},
   "outputs": [
    {
     "data": {
      "text/plain": [
       "{'p': array([[220., 250., 200., 170., 230., 190.],\n",
       "        [  0.,   0.,   0.,   0.,  -0.,   0.],\n",
       "        [  0.,   0.,   0.,   0.,   0.,   0.]]),\n",
       " 'u': array([[1, 1, 1, 1, 1, 1],\n",
       "        [0, 0, 0, 0, 0, 0],\n",
       "        [0, 0, 0, 0, 0, 0]]),\n",
       " 'cost_startup': array([[0., 0., 0., 0., 0., 0.],\n",
       "        [0., 0., 0., 0., 0., 0.],\n",
       "        [0., 0., 0., 0., 0., 0.]]),\n",
       " 'total_cost': 6300.0,\n",
       " 'total_cost_generation': 6300.0,\n",
       " 'total_cost_startup': 0.0,\n",
       " 'marginal_price_generation': array([5., 5., 5., 5., 5., 5.])}"
      ]
     },
     "execution_count": 4,
     "metadata": {},
     "output_type": "execute_result"
    }
   ],
   "source": [
    "output_uc.__dict__"
   ]
  },
  {
   "cell_type": "code",
   "execution_count": 5,
   "id": "bfe0a328",
   "metadata": {},
   "outputs": [
    {
     "name": "stdout",
     "output_type": "stream",
     "text": [
      "True\n"
     ]
    }
   ],
   "source": [
    "output_uc_formulation_1 = Output_uc()\n",
    "solve_uc_formulation_1(input_uc=input_uc, output_uc=output_uc_formulation_1)"
   ]
  },
  {
   "cell_type": "code",
   "execution_count": 6,
   "id": "bfcb5753",
   "metadata": {},
   "outputs": [
    {
     "data": {
      "text/plain": [
       "{'p_tight': array([[140., 170., 120.,  90., 150., 110.],\n",
       "        [  0.,   0.,   0.,   0.,   0.,   0.],\n",
       "        [  0.,   0.,   0.,   0.,   0.,   0.]]),\n",
       " 'u': array([[1, 1, 1, 1, 1, 1],\n",
       "        [0, 0, 0, 0, 0, 0],\n",
       "        [0, 0, 0, 0, 0, 0]]),\n",
       " 'v': array([[0, 0, 0, 0, 0, 0],\n",
       "        [0, 0, 0, 0, 0, 0],\n",
       "        [0, 0, 0, 0, 0, 0]]),\n",
       " 'w': array([[0, 0, 0, 0, 0, 0],\n",
       "        [0, 0, 0, 0, 0, 0],\n",
       "        [0, 0, 0, 0, 0, 0]]),\n",
       " 'p': array([[220., 250., 200., 170., 230., 190.],\n",
       "        [  0.,   0.,   0.,   0.,   0.,   0.],\n",
       "        [  0.,   0.,   0.,   0.,   0.,   0.]]),\n",
       " 'total_cost': 6300.0,\n",
       " 'total_cost_generation': 6300.0,\n",
       " 'marginal_price_generation': array([5., 5., 5., 5., 5., 5.])}"
      ]
     },
     "execution_count": 6,
     "metadata": {},
     "output_type": "execute_result"
    }
   ],
   "source": [
    "output_uc_formulation_1.__dict__"
   ]
  },
  {
   "cell_type": "code",
   "execution_count": null,
   "id": "97bf7e92",
   "metadata": {},
   "outputs": [],
   "source": []
  }
 ],
 "metadata": {
  "kernelspec": {
   "display_name": "base",
   "language": "python",
   "name": "python3"
  },
  "language_info": {
   "codemirror_mode": {
    "name": "ipython",
    "version": 3
   },
   "file_extension": ".py",
   "mimetype": "text/x-python",
   "name": "python",
   "nbconvert_exporter": "python",
   "pygments_lexer": "ipython3",
   "version": "3.12.2"
  }
 },
 "nbformat": 4,
 "nbformat_minor": 5
}
