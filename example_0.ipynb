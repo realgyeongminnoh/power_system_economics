{
 "cells": [
  {
   "cell_type": "markdown",
   "id": "e102bece",
   "metadata": {},
   "source": [
    "**LECTURE NOTE TOY EXAMPLE**"
   ]
  },
  {
   "cell_type": "code",
   "execution_count": null,
   "id": "4f2e7358",
   "metadata": {},
   "outputs": [
    {
     "name": "stdout",
     "output_type": "stream",
     "text": [
      "Set parameter Username\n",
      "Set parameter LicenseID to value 2659802\n",
      "Academic license - for non-commercial use only - expires 2026-05-01\n"
     ]
    }
   ],
   "source": [
    "import numpy as np\n",
    "import gurobipy as gp; gp.Model()\n",
    "\n",
    "from src.input import Input_uc\n",
    "from src.output import Output_uc\n",
    "from src.unit_commitment import solve_uc_formulation_0"
   ]
  },
  {
   "cell_type": "code",
   "execution_count": 2,
   "id": "7a9858cf",
   "metadata": {},
   "outputs": [],
   "source": [
    "input_uc = Input_uc(\n",
    "    num_units=3,\n",
    "    num_periods=6,\n",
    "    #########################\n",
    "    demand=np.array([220,250, 200, 170, 230, 190]),\n",
    "    reserve=np.full((6), 10), # np.array([20, 10, 10, 10, 20, 10]), # \n",
    "    renewable=np.zeros((6)),\n",
    "    #########################\n",
    "    p_min=np.array([80, 50 , 30]),\n",
    "    p_max=np.array([300, 200 , 100]),\n",
    "    ramp_up=np.array([50, 60, 70]),\n",
    "    ramp_down=np.array([30, 40, 50]),\n",
    "    startup_ramp=np.array([100, 70, 40]),\n",
    "    shutdown_ramp=np.array([80, 50, 30]),\n",
    "    min_up=np.array([3, 2, 1]),\n",
    "    min_down=np.array([2, 2, 2]),\n",
    "    #########################\n",
    "    cost_lin=np.array([5, 15, 30]),\n",
    "    cost_const=np.zeros((3)),\n",
    "    #########################\n",
    "    cost_startup_step=np.array([[800], [500], [250]]),\n",
    "    num_cooling_steps=np.array([1, 1, 1]),\n",
    "    #########################\n",
    "    u_prev=np.array([[1], [0], [0]]), \n",
    "    p_prev=np.array([120, 0, 0]),\n",
    "    min_up_prev=np.array([2, 0, 0]), \n",
    "    min_down_prev=np.array([0, 0, 0]), \n",
    ")"
   ]
  },
  {
   "cell_type": "code",
   "execution_count": null,
   "id": "a091a834",
   "metadata": {},
   "outputs": [],
   "source": [
    "output_uc = Output_uc()\n",
    "solve_uc_formulation_0(input_uc=input_uc, output_uc=output_uc)"
   ]
  },
  {
   "cell_type": "code",
   "execution_count": null,
   "id": "f9cb700b",
   "metadata": {},
   "outputs": [],
   "source": [
    "num_units = 4\n",
    "num_periods = 720 - 300 + 1\n",
    "\n",
    "input_uc = Input_uc(\n",
    "    num_units=num_units,\n",
    "    num_periods=num_periods,\n",
    "    #########################\n",
    "    demand=np.arange(300, 720 + 1),\n",
    "    reserve=np.full((num_periods), 250), \n",
    "    renewable=np.zeros(num_periods),\n",
    "    #########################\n",
    "    p_min=np.zeros(num_units),\n",
    "    p_max=np.array([250, 230, 240, 250]),\n",
    "    ramp_up=np.full((num_units), 250),\n",
    "    ramp_down=np.full((num_units), 250),\n",
    "    startup_ramp=np.full((num_units), 250),\n",
    "    shutdown_ramp=np.full((num_units), 250),\n",
    "    min_up=np.ones(num_units, dtype=np.int64),\n",
    "    min_down=np.ones(num_units, dtype=np.int64),\n",
    "    #########################\n",
    "    cost_lin=np.array([2, 17, 20, 28]),\n",
    "    cost_const=np.zeros(num_units),\n",
    "    #########################\n",
    "    cost_startup_step=np.array([[0], [0], [0], [0]]),\n",
    "    num_cooling_steps=np.array([1, 1, 1, 1]),\n",
    "    #########################\n",
    "    u_prev=np.array([[0], [0], [0], [0]]), \n",
    "    p_prev=np.array([0, 0, 0, 0]),\n",
    "    min_up_prev=np.array([0, 0, 0, 0]), \n",
    "    min_down_prev=np.array([0, 0, 0, 0]), \n",
    ")"
   ]
  },
  {
   "cell_type": "code",
   "execution_count": null,
   "id": "adc533d2",
   "metadata": {},
   "outputs": [],
   "source": [
    "output_uc = Output_uc()\n",
    "solve_uc(input_uc=input_uc, output_uc=output_uc)"
   ]
  }
 ],
 "metadata": {
  "kernelspec": {
   "display_name": "base",
   "language": "python",
   "name": "python3"
  },
  "language_info": {
   "codemirror_mode": {
    "name": "ipython",
    "version": 3
   },
   "file_extension": ".py",
   "mimetype": "text/x-python",
   "name": "python",
   "nbconvert_exporter": "python",
   "pygments_lexer": "ipython3",
   "version": "3.12.2"
  }
 },
 "nbformat": 4,
 "nbformat_minor": 5
}
