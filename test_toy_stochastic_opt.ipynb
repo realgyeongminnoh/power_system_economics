{
 "cells": [
  {
   "cell_type": "code",
   "execution_count": 1,
   "id": "b58b7fcb",
   "metadata": {},
   "outputs": [],
   "source": [
    "import numpy as np\n",
    "import gurobipy as gp\n",
    "import matplotlib.pyplot as plt"
   ]
  },
  {
   "cell_type": "code",
   "execution_count": 2,
   "id": "82aed76f",
   "metadata": {},
   "outputs": [],
   "source": [
    "mu, sigma = 100, 20\n",
    "N = 10000\n",
    "c_h, c_p = 1.0, 5.0"
   ]
  },
  {
   "cell_type": "code",
   "execution_count": 3,
   "id": "6a359c1f",
   "metadata": {},
   "outputs": [],
   "source": [
    "np.random.seed(10)\n",
    "xi_samples = np.random.normal(loc=mu, scale=sigma, size=N)"
   ]
  },
  {
   "cell_type": "code",
   "execution_count": 4,
   "id": "1b32e6c9",
   "metadata": {},
   "outputs": [],
   "source": [
    "hist, bin_edges = np.histogram(xi_samples, bins=10)\n",
    "hist_p = hist / hist.sum() * 100\n",
    "bin_width = bin_edges[1] - bin_edges[0]\n",
    "bin_midpoints = (bin_edges[1:] + bin_edges[:-1]) / 2"
   ]
  },
  {
   "cell_type": "code",
   "execution_count": 5,
   "id": "28eb22be",
   "metadata": {},
   "outputs": [
    {
     "name": "stdout",
     "output_type": "stream",
     "text": [
      "Set parameter Username\n",
      "Set parameter LicenseID to value 2659802\n",
      "Academic license - for non-commercial use only - expires 2026-05-01\n"
     ]
    }
   ],
   "source": [
    "model = gp.Model()"
   ]
  },
  {
   "cell_type": "code",
   "execution_count": 6,
   "id": "12fdcdbe",
   "metadata": {},
   "outputs": [],
   "source": [
    "q = model.addVar(lb=0.0)"
   ]
  },
  {
   "cell_type": "code",
   "execution_count": 7,
   "id": "ec1d023a",
   "metadata": {},
   "outputs": [],
   "source": [
    "over = {}\n",
    "under = {}"
   ]
  },
  {
   "cell_type": "code",
   "execution_count": 8,
   "id": "872e7a09",
   "metadata": {},
   "outputs": [],
   "source": [
    "for i, xi in enumerate(xi_samples):\n",
    "    over[i] = model.addVar(lb=0.0)\n",
    "    under[i] = model.addVar(lb=0.0)\n",
    "    model.addConstr(over[i] >= q - xi)\n",
    "    model.addConstr(under[i] >= xi - q)\n"
   ]
  },
  {
   "cell_type": "code",
   "execution_count": 9,
   "id": "235163d4",
   "metadata": {},
   "outputs": [],
   "source": [
    "objval = (\n",
    "    c_h * gp.quicksum(over[i] for i in over)\n",
    "    + c_p * gp.quicksum(under[i] for i in under)\n",
    ") / N\n"
   ]
  },
  {
   "cell_type": "code",
   "execution_count": 10,
   "id": "50f68d99",
   "metadata": {},
   "outputs": [
    {
     "name": "stdout",
     "output_type": "stream",
     "text": [
      "Gurobi Optimizer version 12.0.1 build v12.0.1rc0 (linux64 - \"Arch Linux\")\n",
      "\n",
      "CPU model: 12th Gen Intel(R) Core(TM) i7-12700, instruction set [SSE2|AVX|AVX2]\n",
      "Thread count: 20 physical cores, 20 logical processors, using up to 20 threads\n",
      "\n",
      "Optimize a model with 20000 rows, 20001 columns and 40000 nonzeros\n",
      "Model fingerprint: 0xf4ee9fda\n",
      "Coefficient statistics:\n",
      "  Matrix range     [1e+00, 1e+00]\n",
      "  Objective range  [1e-04, 5e-04]\n",
      "  Bounds range     [0e+00, 0e+00]\n",
      "  RHS range        [3e+01, 2e+02]\n"
     ]
    },
    {
     "name": "stdout",
     "output_type": "stream",
     "text": [
      "\n",
      "Concurrent LP optimizer: primal simplex, dual simplex, and barrier\n",
      "Showing barrier log only...\n",
      "\n",
      "Ordering time: 0.00s\n",
      "\n",
      "Barrier statistics:\n",
      " Dense cols : 1\n",
      " AA' NZ     : 2.960e+03\n",
      " Factor NZ  : 5.921e+03 (roughly 2 MB of memory)\n",
      " Factor Ops : 1.184e+04 (less than 1 second per iteration)\n",
      " Threads    : 1\n",
      "\n",
      "                  Objective                Residual\n",
      "Iter       Primal          Dual         Primal    Dual     Compl     Time\n",
      "   0   7.55833259e+02  0.00000000e+00  3.39e+01 0.00e+00  2.41e+01     0s\n",
      "   1   1.78101069e+02  7.03603494e+00  0.00e+00 7.16e-03  2.40e+00     0s\n",
      "   2   6.99247435e+01  1.41636134e+01  0.00e+00 2.81e-14  6.03e-01     0s\n",
      "   3   3.54309950e+01  2.36675762e+01  0.00e+00 2.22e-16  1.27e-01     0s\n",
      "   4   3.18244860e+01  2.84156620e+01  0.00e+00 2.22e-16  3.68e-02     0s\n",
      "   5   2.99807921e+01  2.92285476e+01  0.00e+00 3.18e-14  8.13e-03     0s\n",
      "   6   2.95147361e+01  2.93458142e+01  0.00e+00 2.22e-16  1.83e-03     0s\n",
      "   7   2.94010879e+01  2.93769684e+01  0.00e+00 2.41e-14  2.61e-04     0s\n",
      "   8   2.93802828e+01  2.93800027e+01  0.00e+00 7.24e-15  3.03e-06     0s\n",
      "   9   2.93801120e+01  2.93801117e+01  0.00e+00 1.11e-16  3.05e-09     0s\n",
      "\n",
      "Barrier solved model in 9 iterations and 0.03 seconds (0.03 work units)\n",
      "Optimal objective 2.93801120e+01\n",
      "\n",
      "Crossover log...\n",
      "\n",
      "       2 DPushes remaining with DInf 0.0000000e+00                 0s\n",
      "       0 DPushes remaining with DInf 0.0000000e+00                 0s\n",
      "\n",
      "       0 PPushes remaining with PInf 0.0000000e+00                 0s\n",
      "\n",
      "  Push phase complete: Pinf 0.0000000e+00, Dinf 2.1120258e-15      0s\n",
      "\n",
      "\n",
      "Solved with barrier\n",
      "Iteration    Objective       Primal Inf.    Dual Inf.      Time\n",
      "       5    2.9380112e+01   0.000000e+00   0.000000e+00      0s\n",
      "\n",
      "Use crossover to convert LP symmetric solution to basic solution...\n",
      "Crossover log...\n",
      "\n",
      "       0 DPushes remaining with DInf 2.3040000e-01                 0s\n",
      "\n",
      "       0 PPushes remaining with PInf 0.0000000e+00                 0s\n",
      "\n",
      "  Push phase complete: Pinf 0.0000000e+00, Dinf 2.3040000e-01      0s\n",
      "\n",
      "Iteration    Objective       Primal Inf.    Dual Inf.      Time\n",
      "       9    2.9425529e+01   0.000000e+00   2.304000e-01      0s\n",
      "      14    2.9425520e+01   0.000000e+00   0.000000e+00      0s\n",
      "\n",
      "Solved in 14 iterations and 0.05 seconds (0.08 work units)\n",
      "Optimal objective  2.942551958e+01\n"
     ]
    }
   ],
   "source": [
    "model.setObjective(objval, gp.GRB.MINIMIZE)\n",
    "model.optimize()"
   ]
  },
  {
   "cell_type": "code",
   "execution_count": 11,
   "id": "9d1fcbfc",
   "metadata": {},
   "outputs": [],
   "source": [
    "q_result = q.getAttr(\"X\")"
   ]
  },
  {
   "cell_type": "code",
   "execution_count": 12,
   "id": "6d42130e",
   "metadata": {},
   "outputs": [
    {
     "data": {
      "text/plain": [
       "119.27938130754782"
      ]
     },
     "execution_count": 12,
     "metadata": {},
     "output_type": "execute_result"
    }
   ],
   "source": [
    "q_result"
   ]
  },
  {
   "cell_type": "code",
   "execution_count": 13,
   "id": "d7603c9f",
   "metadata": {},
   "outputs": [
    {
     "data": {
      "text/plain": [
       "29.42551957736913"
      ]
     },
     "execution_count": 13,
     "metadata": {},
     "output_type": "execute_result"
    }
   ],
   "source": [
    "objval.getValue()"
   ]
  },
  {
   "cell_type": "code",
   "execution_count": 14,
   "id": "8b0aed22",
   "metadata": {},
   "outputs": [
    {
     "data": {
      "image/png": "[encoded data removed]",
      "text/plain": [
       "<Figure size 800x600 with 1 Axes>"
      ]
     },
     "metadata": {},
     "output_type": "display_data"
    }
   ],
   "source": [
    "fig, ax = plt.subplots(1, 1, figsize=(8, 6))\n",
    "ax.bar(bin_midpoints, hist_p, width=bin_width, edgecolor=\"black\")\n",
    "\n",
    "\n",
    "ymin, ymax = ax.get_ylim()\n",
    "\n",
    "ax.vlines(x=q_result, ymin=ymin, ymax=ymax, ls=\"--\", lw=1, colors=\"black\")\n",
    "\n",
    "ax.set_ylim(ymin, ymax)\n",
    "plt.show()"
   ]
  },
  {
   "cell_type": "code",
   "execution_count": 15,
   "id": "d1670841",
   "metadata": {},
   "outputs": [],
   "source": [
    "overs = np.array([over[i].getAttr(\"X\") for i in range(N)])\n",
    "unders = np.array([under[i].getAttr(\"X\") for i in range(N)])"
   ]
  },
  {
   "cell_type": "code",
   "execution_count": 38,
   "id": "26789cae",
   "metadata": {},
   "outputs": [],
   "source": [
    "import matplotlib.axes._axes as axes\n",
    "\n",
    "def return_histogram(\n",
    "    ax: axes.Axes, \n",
    "    arr: np.ndarray, \n",
    "    num_bins: int=10\n",
    "):\n",
    "    hist, bin_edges = np.histogram(arr, bins=num_bins)\n",
    "    hist_p = hist / hist.sum() * 100\n",
    "    bin_width = bin_edges[1] - bin_edges[0]\n",
    "    bin_midpoints = (bin_edges[1:] + bin_edges[:-1]) / 2\n",
    "    ax.bar(bin_midpoints, hist_p, width=bin_width, edgecolor=\"black\")\n",
    "    return ax"
   ]
  },
  {
   "cell_type": "code",
   "execution_count": 39,
   "id": "8c7987c1",
   "metadata": {},
   "outputs": [
    {
     "data": {
      "text/plain": [
       "600.0"
      ]
     },
     "execution_count": 39,
     "metadata": {},
     "output_type": "execute_result"
    }
   ],
   "source": [
    "float((fig.get_size_inches() * fig.dpi)[1])"
   ]
  },
  {
   "cell_type": "code",
   "execution_count": 47,
   "id": "94279f47",
   "metadata": {},
   "outputs": [],
   "source": [
    "ax = return_histogram(ax, overs)\n",
    "plt.show()"
   ]
  },
  {
   "cell_type": "code",
   "execution_count": null,
   "id": "fdfc59b6",
   "metadata": {},
   "outputs": [],
   "source": []
  },
  {
   "cell_type": "code",
   "execution_count": 43,
   "id": "d932165f",
   "metadata": {},
   "outputs": [
    {
     "data": {
      "image/png": "[encoded data removed]",
      "text/plain": [
       "<Figure size 800x600 with 1 Axes>"
      ]
     },
     "metadata": {},
     "output_type": "display_data"
    }
   ],
   "source": [
    "fig, ax = plt.subplots(1, 1, figsize=(8, 6))\n",
    "# plt.show()"
   ]
  },
  {
   "cell_type": "code",
   "execution_count": 33,
   "id": "2559bfb8",
   "metadata": {},
   "outputs": [
    {
     "data": {
      "text/plain": [
       "np.float64(4.8)"
      ]
     },
     "execution_count": 33,
     "metadata": {},
     "output_type": "execute_result"
    },
    {
     "data": {
      "text/plain": [
       "<Figure size 640x480 with 0 Axes>"
      ]
     },
     "metadata": {},
     "output_type": "display_data"
    }
   ],
   "source": [
    "plt.gcf().get_size_inches()[1]"
   ]
  },
  {
   "cell_type": "code",
   "execution_count": 18,
   "id": "11fac34d",
   "metadata": {},
   "outputs": [],
   "source": [
    "ax = return_histogram(ax, unders)"
   ]
  },
  {
   "cell_type": "code",
   "execution_count": 19,
   "id": "b123ec13",
   "metadata": {},
   "outputs": [
    {
     "data": {
      "image/png": "[encoded data removed]",
      "text/plain": [
       "<Figure size 800x600 with 1 Axes>"
      ]
     },
     "metadata": {},
     "output_type": "display_data"
    }
   ],
   "source": [
    "hist, bin_edges = np.histogram(unders, bins=10)\n",
    "hist_p = hist / hist.sum() * 100\n",
    "bin_width = bin_edges[1] - bin_edges[0]\n",
    "bin_midpoints = (bin_edges[1:] + bin_edges[:-1]) / 2\n",
    "fig, ax = plt.subplots(1, 1, figsize=(8, 6))\n",
    "ax.bar(bin_midpoints, hist_p, width=bin_width, edgecolor=\"black\")\n",
    "\n",
    "\n",
    "ymin, ymax = ax.get_ylim()\n",
    "\n",
    "# ax.vlines(x=q_result, ymin=ymin, ymax=ymax, ls=\"--\", lw=1, colors=\"black\")\n",
    "\n",
    "ax.set_ylim(ymin, ymax)\n",
    "plt.show()"
   ]
  },
  {
   "cell_type": "code",
   "execution_count": null,
   "id": "f7c6b72e",
   "metadata": {},
   "outputs": [],
   "source": []
  },
  {
   "cell_type": "code",
   "execution_count": null,
   "id": "cff61016",
   "metadata": {},
   "outputs": [],
   "source": []
  },
  {
   "cell_type": "code",
   "execution_count": null,
   "id": "a14edc64",
   "metadata": {},
   "outputs": [],
   "source": []
  }
 ],
 "metadata": {
  "kernelspec": {
   "display_name": "base",
   "language": "python",
   "name": "python3"
  },
  "language_info": {
   "codemirror_mode": {
    "name": "ipython",
    "version": 3
   },
   "file_extension": ".py",
   "mimetype": "text/x-python",
   "name": "python",
   "nbconvert_exporter": "python",
   "pygments_lexer": "ipython3",
   "version": "3.12.2"
  }
 },
 "nbformat": 4,
 "nbformat_minor": 5
}
