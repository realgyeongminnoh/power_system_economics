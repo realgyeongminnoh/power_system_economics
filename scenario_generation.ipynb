{
 "cells": [
  {
   "cell_type": "code",
   "execution_count": 1,
   "id": "010b21be",
   "metadata": {},
   "outputs": [],
   "source": [
    "from pathlib import Path\n",
    "import numpy as np\n",
    "import matplotlib.pyplot as plt"
   ]
  },
  {
   "cell_type": "code",
   "execution_count": 2,
   "id": "c959245a",
   "metadata": {},
   "outputs": [],
   "source": [
    "num_periods = 24"
   ]
  },
  {
   "cell_type": "code",
   "execution_count": 3,
   "metadata": {},
   "outputs": [],
   "source": [
    "path_folder_processed = Path.cwd() / \"data\" / \"input\" / \"processed\"\n",
    "# from 2019-01-01T00 to 2022-12-31 # hourly # leap date of 2020 02 29 removed \n",
    "# all years have 8760 hours\n",
    "timestamp_hist = np.load(path_folder_processed / \"timestamp_hist.npy\")\n",
    "renewable_cap_hist = np.load(path_folder_processed / \"renewable_cap_hist.npy\")\n",
    "renewable_gen_hist = np.load(path_folder_processed / \"renewable_gen_hist.npy\")\n",
    "renewable_ratio_hist = np.load(path_folder_processed / \"renewable_ratio_hist.npy\")\n",
    "demand_hist = np.load(path_folder_processed / \"demand_hist.npy\")"
   ]
  },
  {
   "cell_type": "code",
   "execution_count": 4,
   "id": "09310e05",
   "metadata": {},
   "outputs": [],
   "source": [
    "def idx_time(time_str):\n",
    "    return int(np.where(timestamp_hist == np.datetime64(time_str))[0][0])"
   ]
  },
  {
   "cell_type": "code",
   "execution_count": 5,
   "id": "5b2ca5c5",
   "metadata": {},
   "outputs": [],
   "source": [
    "idx_target_start, idx_target_end = idx_time(\"2022-07-21T00\"), idx_time(\"2022-07-21T23\")"
   ]
  },
  {
   "cell_type": "code",
   "execution_count": 6,
   "id": "6601a509",
   "metadata": {},
   "outputs": [
    {
     "data": {
      "text/plain": [
       "array([2636.54    , 2636.54    , 2636.54    , ..., 6915.137055,\n",
       "       6915.137055, 6915.137055], shape=(35040,))"
      ]
     },
     "execution_count": 6,
     "metadata": {},
     "output_type": "execute_result"
    }
   ],
   "source": [
    "renewable_cap_hist"
   ]
  },
  {
   "cell_type": "code",
   "execution_count": 7,
   "id": "415e5f87",
   "metadata": {},
   "outputs": [],
   "source": [
    "# now from 2019 ~ 21\n",
    "# SINGLE TIME RUN IN IPYNB \n",
    "renewable_cap_hist = renewable_cap_hist[:idx_time(\"2022-01-01\")]\n",
    "renewable_gen_hist = renewable_gen_hist[:idx_time(\"2022-01-01\")]\n",
    "renewable_ratio_hist = renewable_ratio_hist[:idx_time(\"2022-01-01\")]\n",
    "demand_hist = demand_hist[:idx_time(\"2022-01-01\")]\n",
    "timestamp_hist = timestamp_hist[:idx_time(\"2022-01-01\")]"
   ]
  },
  {
   "cell_type": "code",
   "execution_count": 8,
   "id": "366168ad",
   "metadata": {},
   "outputs": [
    {
     "name": "stdout",
     "output_type": "stream",
     "text": [
      "2019:  days = 43  (should be ≈43)\n",
      "2020:  days = 44  (should be ≈43)\n",
      "2021:  days = 45  (should be ≈43)\n"
     ]
    }
   ],
   "source": [
    "# ok i told gpt how to do it exactly the ideas are from mine 99% and i checked cus i can code well\n",
    "from datetime import datetime\n",
    "\n",
    "\n",
    "# helper → returns True if ts belongs in the ±30-day weekday window of year `yr`\n",
    "def in_window_weekday(ts: datetime, yr: int) -> bool:\n",
    "    target = datetime(yr, 7, 21)  # July-21 of that year\n",
    "    delta = abs((ts.date() - target.date()).days)\n",
    "    return delta <= 30 and ts.weekday() < 5  # ±30 days & Mon-Fri\n",
    "\n",
    "\n",
    "arrays_demand = {}  # dict: year → (N_y,24)\n",
    "arrays_ratio = {}\n",
    "\n",
    "for yr in (2019, 2020, 2021):\n",
    "    mask = np.array(\n",
    "        [\n",
    "            in_window_weekday(ts.astype(\"datetime64[s]\").astype(datetime), yr)\n",
    "            for ts in timestamp_hist\n",
    "        ]\n",
    "    )\n",
    "    arrays_demand[yr] = demand_hist[mask].reshape(-1, 24)  # (N_y,24)\n",
    "    arrays_ratio[yr] = renewable_ratio_hist[mask].reshape(-1, 24)  # (N_y,24)\n",
    "\n",
    "# quick sanity check\n",
    "for yr, arr in arrays_demand.items():\n",
    "    print(f\"{yr}:  days = {arr.shape[0]}  (should be ≈43)\")"
   ]
  },
  {
   "cell_type": "code",
   "execution_count": 9,
   "id": "e3b7f08f",
   "metadata": {},
   "outputs": [],
   "source": [
    "arrays_demand[2019], arrays_demand[2020], arrays_demand[2021]  # shapes (N_2019,24) ...\n",
    "arrays_ratio[2019], arrays_ratio[2020], arrays_ratio[2021] ; "
   ]
  },
  {
   "cell_type": "code",
   "execution_count": 10,
   "id": "407ef897",
   "metadata": {},
   "outputs": [],
   "source": [
    "arrays_demand[2019][:, 0].mean(), arrays_demand[2020][:, 0].mean(), arrays_demand[2021][:, 0].mean()\n",
    "arrays_demand[2019][:, 0].min(), arrays_demand[2020][:, 0].min(), arrays_demand[2021][:, 0].min()\n",
    "arrays_demand[2019][:, 0].max(), arrays_demand[2020][:, 0].max(), arrays_demand[2021][:, 0].max() ; \n",
    "# 2020 data.. omg also ok this is just first hour mid night "
   ]
  },
  {
   "cell_type": "code",
   "execution_count": 11,
   "id": "33b8236c",
   "metadata": {},
   "outputs": [],
   "source": [
    "t = 12\n",
    "arrays_ratio[2019][:, t].mean(), arrays_ratio[2020][:, t].mean(), arrays_ratio[2021][:, t].mean()\n",
    "arrays_ratio[2019][:, t].max(), arrays_ratio[2020][:, t].max(), arrays_ratio[2021][:, t].max()\n",
    "arrays_ratio[2019][:, t].min(), arrays_ratio[2020][:, t].min(), arrays_ratio[2021][:, t].min() ; "
   ]
  },
  {
   "cell_type": "code",
   "execution_count": 12,
   "id": "000bcfab",
   "metadata": {},
   "outputs": [],
   "source": [
    "def ppp():\n",
    "    import matplotlib.pyplot as plt\n",
    "    import numpy as np\n",
    "    import matplotlib.collections as mcoll\n",
    "\n",
    "    # ------------- user-tunable global linewidth -----------------\n",
    "    LW = 2          \n",
    "    # -------------------------------------------------------------\n",
    "\n",
    "    # assumes arrays_demand dict exists\n",
    "    fig, ax = plt.subplots(figsize=(25, 10))\n",
    "    hours  = np.arange(1, 25)\n",
    "    colors = {2019: 'blue', 2020: 'green', 2021: 'red'}\n",
    "\n",
    "    for yr in (2019, 2020, 2021):\n",
    "        vp = ax.violinplot(\n",
    "            # arrays_ratio[yr],\n",
    "            arrays_demand[yr] / 1000,\n",
    "            positions=hours,\n",
    "            widths=0.8,\n",
    "            showmeans=True,\n",
    "            showmedians=False,\n",
    "            showextrema=False\n",
    "        )\n",
    "        # outline (left half only)\n",
    "        for body in vp['bodies']:\n",
    "            body.set_facecolor('none')\n",
    "            body.set_edgecolor(colors[yr])\n",
    "            body.set_linewidth(LW)\n",
    "            cx = body.get_paths()[0].vertices[:, 0].mean()\n",
    "            body.set_clip_path(\n",
    "                plt.Rectangle((cx-10, -1e6), 10, 2e6, transform=ax.transData)\n",
    "            )\n",
    "            body.set_alpha(1)\n",
    "\n",
    "        # mean bar (right half only)\n",
    "        means = vp['cmeans']\n",
    "        means.set_color(colors[yr])\n",
    "        means.set_linewidth(LW)\n",
    "        segs = means.get_segments()\n",
    "        new_segs = []\n",
    "        for seg in segs:\n",
    "            x0, y0 = seg[0]; x1, y1 = seg[1]\n",
    "            mid = (x0 + x1)/2\n",
    "            new_segs.append([[mid, y0], [x1, y1]])\n",
    "        means.set_segments(new_segs)\n",
    "        means.set_alpha(1)\n",
    "\n",
    "    # cosmetics\n",
    "    ax.set_xticks(hours)\n",
    "    ax.set_xticklabels(hours)       # 1, 2, …, 24\n",
    "    ax.set_xlim(0.5, 24.5)              # x-limits from 1 to 24\n",
    "\n",
    "    ax.spines['top'].set_visible(False)\n",
    "    ax.spines['right'].set_visible(False)\n",
    "    for s in ('bottom', 'left'):\n",
    "        ax.spines[s].set_linewidth(LW)\n",
    "\n",
    "    ax.tick_params(axis='both', which='major',\n",
    "                direction='in', length=10,\n",
    "                labelsize=20, width=LW)\n",
    "    ax.grid(True, axis='x', alpha=1, lw=LW)\n",
    "\n",
    "    plt.tight_layout()\n",
    "    # ax.set_ylim(0)\n",
    "    # enforce opaque in case anything slipped through\n",
    "    for poly in ax.findobj(match=mcoll.PolyCollection):\n",
    "        poly.set_alpha(1)\n",
    "    for lc in ax.findobj(match=mcoll.LineCollection):\n",
    "        lc.set_alpha(1)\n",
    "\n",
    "    plt.show()\n"
   ]
  },
  {
   "cell_type": "code",
   "execution_count": 13,
   "id": "b6f32600",
   "metadata": {},
   "outputs": [],
   "source": [
    "# ppp()"
   ]
  },
  {
   "cell_type": "code",
   "execution_count": 14,
   "id": "ceba8fcf",
   "metadata": {},
   "outputs": [],
   "source": [
    "# # i just did it manually 2019 2021 swap with var name too\n",
    "# # its bascially grouping with bin = 6 so each data points will have 7 too fixed per bin this can be menteiond in improvement\n",
    "# # but like weekday x ~-30 ~+30 the time horizon 24h single day this is reasonable . and probaly better than season (although seasonal 3 months can increase datapoints but should be filtered if we actually do )\n",
    "# # also this is too small but going below 2018 is problematic  basically linear extrapolation will be \"accurate\"\n",
    "# # reneable ratio just ratio itself , and will be literally multipled by the capcity which is known (assume this probably true too)\n",
    "# import numpy as np\n",
    "\n",
    "# # pick whichever year you want, e.g. 2019:\n",
    "# raw_demand = arrays_demand[2021][1:, :]    # shape (42,24)\n",
    "# raw_ratio  = arrays_ratio [2021][1:, :]    # also (42,24)\n",
    "\n",
    "# K        = 6\n",
    "# bin_size = raw_demand.shape[0] // K        # 42//6 = 7\n",
    "\n",
    "# # 1) sort days by some summary metric (e.g. total daily demand)\n",
    "# order = np.argsort(raw_demand.sum(axis=1))\n",
    "\n",
    "# # 2) form index‐sets B_k of size 7\n",
    "# B = [order[k*bin_size:(k+1)*bin_size] for k in range(K)]\n",
    "\n",
    "# # 3) compute centroids\n",
    "# centroids_demand_2021 = np.stack(\n",
    "#     [ raw_demand[Bk].mean(axis=0) for Bk in B ],\n",
    "#     axis=1\n",
    "# )   # shape (24,6), gives {}^{the}D^{sce}_{t,k}\n",
    "\n",
    "# centroids_renratio_2021 = np.stack(\n",
    "#     [ raw_ratio[Bk].mean(axis=0) for Bk in B ],\n",
    "#     axis=1\n",
    "# )   # shape (24,6) for ratio scenarios\n",
    "\n",
    "# # 4) equal weights\n",
    "# w = np.ones(K) / K     # array([1/6,1/6,…,1/6])\n"
   ]
  },
  {
   "cell_type": "code",
   "execution_count": 15,
   "id": "5efda095",
   "metadata": {},
   "outputs": [],
   "source": [
    "# np.save(path_folder_processed / \"centroids_renratio_2019.npy\", centroids_renratio_2019)\n",
    "# np.save(path_folder_processed / \"centroids_demand_2019.npy\", centroids_demand_2019)\n",
    "# np.save(path_folder_processed / \"centroids_renratio_2021.npy\", centroids_renratio_2021)\n",
    "# np.save(path_folder_processed / \"centroids_demand_2021.npy\", centroids_demand_2021)\n",
    "# basically above but loading it incase ipynb data corruption\n",
    "centroids_demand_2021 = np.load(path_folder_processed / \"centroids_demand_2021.npy\")\n",
    "centroids_renratio_2021 = np.load(path_folder_processed / \"centroids_renratio_2021.npy\")\n",
    "centroids_demand_2019 = np.load(path_folder_processed / \"centroids_demand_2019.npy\")\n",
    "centroids_renratio_2019 = np.load(path_folder_processed / \"centroids_renratio_2019.npy\")"
   ]
  },
  {
   "cell_type": "code",
   "execution_count": 16,
   "id": "56b5ac20",
   "metadata": {},
   "outputs": [],
   "source": [
    "# # i just exlcuded the  2020 its too bad i included it in the plot though in report \n",
    "# centroids_demand_2021.mean(axis=0)\n",
    "# centroids_renratio_2021.mean(axis=0)\n",
    "# centroids_demand_2019.mean(axis=0)\n",
    "# centroids_renratio_2019.mean(axis=0)"
   ]
  },
  {
   "cell_type": "code",
   "execution_count": 17,
   "id": "b5c21b05",
   "metadata": {},
   "outputs": [],
   "source": [
    "# the linear increase (extrapolation) won't be too much so we good and its reasonable for each of 6 centroids\n",
    "# i checked by .mean()\n",
    "# #### note that ALTHOUGH ITS NAMED 2019 2021 2022 \n",
    "# THESE ARE SPECIFIC TO OUR 7 21 TIME HORIZON\n",
    "# we might have to compare these 6 scenarios with actual data but this isn't really the project focus anyways\n",
    "# ok i changed to 1.5\n",
    "centroids_demand_2022 = (centroids_demand_2021 - centroids_demand_2019) * 1.5+ centroids_demand_2019\n",
    "# average for 2022 cus its ratio and doesn't make sense if we really think deep \n",
    "centroids_renratio_2022 = (centroids_renratio_2021 +  centroids_renratio_2019) /2 "
   ]
  },
  {
   "cell_type": "code",
   "execution_count": 18,
   "id": "46c590f7",
   "metadata": {},
   "outputs": [],
   "source": [
    "# same reason\n",
    "np.save(path_folder_processed / \"centroids_demand_2022.npy\", centroids_demand_2022)\n",
    "np.save(path_folder_processed / \"centroids_renratio_2022.npy\", centroids_renratio_2022)\n",
    "centroids_demand_2022= np.load(path_folder_processed / \"centroids_demand_2022.npy\")\n",
    "centroids_renratio_2022= np.load(path_folder_processed / \"centroids_renratio_2022.npy\")"
   ]
  },
  {
   "cell_type": "code",
   "execution_count": 19,
   "id": "ba814932",
   "metadata": {},
   "outputs": [],
   "source": [
    "def asdf():\n",
    "    # FUSING CENTROIDS WITH DISTRIBUTION \n",
    "\n",
    "    # ok i tried and it looked bad just too much stuffs in one plot so im gonna do seaparet just ceontroids lines \n",
    "    import matplotlib.pyplot as plt\n",
    "    import numpy as np\n",
    "\n",
    "    # ------------- user‐tunable global linewidth -----------------\n",
    "    LW = 2\n",
    "    # -------------------------------------------------------------\n",
    "\n",
    "    # assumes centroids_demand_2019, centroids_demand_2021, centroids_demand_2022 exist\n",
    "    fig, ax = plt.subplots(figsize=(25, 10))\n",
    "\n",
    "    hours = np.arange(1, 25)\n",
    "    colors = {\n",
    "        2019: 'blue',\n",
    "        2021: 'red',\n",
    "        2022: 'black',\n",
    "    }\n",
    "\n",
    "    # plot centroid lines\n",
    "    ax.plot(hours, centroids_demand_2019 / 1000, color=colors[2019], linewidth=LW)\n",
    "    ax.plot(hours, centroids_demand_2021 / 1000, color=colors[2021], linewidth=LW)\n",
    "    ax.plot(hours, centroids_demand_2022 / 1000, color=colors[2022], linewidth=LW)\n",
    "\n",
    "    # cosmetics\n",
    "    ax.set_xticks(hours)\n",
    "    ax.set_xticklabels(hours)\n",
    "    ax.set_xlim(0.5, 24.5)\n",
    "\n",
    "    # remove top/right spines, thicken bottom/left\n",
    "    ax.spines['top'].set_visible(False)\n",
    "    ax.spines['right'].set_visible(False)\n",
    "    for s in ('bottom', 'left'):\n",
    "        ax.spines[s].set_linewidth(LW)\n",
    "    ax.set_yticks(range(50, 100, 10))\n",
    "    # ticks\n",
    "    ax.tick_params(\n",
    "        axis='both', which='major',\n",
    "        direction='in', length=10,\n",
    "        labelsize=20, width=LW\n",
    "    )\n",
    "    # ax.set_ylim(0)\n",
    "\n",
    "\n",
    "    # vertical grid lines only\n",
    "    ax.grid(True, axis='x', alpha=1, linewidth=LW)\n",
    "\n",
    "    plt.tight_layout()\n",
    "    plt.show()\n"
   ]
  },
  {
   "cell_type": "code",
   "execution_count": 20,
   "id": "179be2b6",
   "metadata": {},
   "outputs": [],
   "source": [
    "# asdf()"
   ]
  },
  {
   "cell_type": "code",
   "execution_count": 21,
   "id": "03e2bc06",
   "metadata": {},
   "outputs": [
    {
     "name": "stdout",
     "output_type": "stream",
     "text": [
      "4824\n",
      "True\n"
     ]
    }
   ],
   "source": [
    "print(np.where(np.arange(np.datetime64(\"2022-01-01T00\"), np.datetime64(\"2022-08-01T00\")) == np.datetime64(\"2022-07-21T00\"))[0][0])\n",
    "# 4824 = 0h # 4847 = 23h \n",
    "target_rencap = np.load(path_folder_processed / \"renewable_cap_2022.npy\")[4824:4847 + 1]\n",
    "print(np.all(target_rencap == 6322.68621))\n",
    "target_rencap = 6322.68621 # so we just use this "
   ]
  },
  {
   "cell_type": "code",
   "execution_count": 22,
   "id": "d8be1e19",
   "metadata": {},
   "outputs": [],
   "source": [
    "centroids_rengen_2022 = centroids_renratio_2022 * 6322.68621\n",
    "# np.save(path_folder_processed / \"centroids_rengen_2022.npy\", centroids_rengen_2022)\n",
    "centroids_rengen_2022 = np.load(path_folder_processed / \"centroids_rengen_2022.npy\")\n",
    "# plt.plot(centroids_rengen_2022) # 3 GW peak solar so looking good i guess"
   ]
  },
  {
   "cell_type": "code",
   "execution_count": 23,
   "id": "4da725ad",
   "metadata": {},
   "outputs": [],
   "source": [
    "thermal_demand_2022721_tk = centroids_demand_2022 - centroids_rengen_2022"
   ]
  },
  {
   "cell_type": "code",
   "execution_count": 24,
   "id": "f0a25d66",
   "metadata": {},
   "outputs": [],
   "source": [
    "np.save(path_folder_processed / \"thermal_demand_2022721_tk.npy\", thermal_demand_2022721_tk)\n",
    "# thermal_demand_2022721_tk = np.load(path_folder_processed / \"thermal_demand_2022721_tk.npy\")"
   ]
  }
 ],
 "metadata": {
  "kernelspec": {
   "display_name": "base",
   "language": "python",
   "name": "python3"
  },
  "language_info": {
   "codemirror_mode": {
    "name": "ipython",
    "version": 3
   },
   "file_extension": ".py",
   "mimetype": "text/x-python",
   "name": "python",
   "nbconvert_exporter": "python",
   "pygments_lexer": "ipython3",
   "version": "3.12.2"
  }
 },
 "nbformat": 4,
 "nbformat_minor": 5
}
